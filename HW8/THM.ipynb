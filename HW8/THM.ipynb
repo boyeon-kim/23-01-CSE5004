{
 "cells": [
  {
   "cell_type": "markdown",
   "metadata": {},
   "source": [
    "#### Chapter 7"
   ]
  },
  {
   "cell_type": "markdown",
   "metadata": {},
   "source": [
    "#### 7.1 Basic definitions  "
   ]
  },
  {
   "cell_type": "markdown",
   "metadata": {},
   "source": [
    "#### 7.3 Ring homomorphism and quotient rings"
   ]
  },
  {
   "cell_type": "markdown",
   "metadata": {},
   "source": [
    "##### Example.\n",
    "\n",
    "1. Prove that The map $\\varphi: \\mathbb{Z} \\rightarrow 2 \\mathbb{Z}$ is not ring homomorphism."
   ]
  },
  {
   "cell_type": "markdown",
   "metadata": {},
   "source": [
    "##### Proposition 5. (Prove 2)\n",
    "\n",
    "Let $R$ and $S$ be rings and let $\\varphi: R \\rightarrow S$ be a homomorphism.\n",
    "\n",
    "1. The image of $\\varphi$ is a subring of $S$.\n",
    "\n",
    "2. The kernel of $\\varphi$ is a subring of $R$. Furthermore, if $\\alpha \\in \\operatorname{ker} \\varphi$ then $r \\alpha$ and $\\alpha r \\in \\operatorname{ker} \\varphi$ for every $r \\in R$, i.e., $\\operatorname{ker} \\varphi$ is closed under multiplication by elements from $R$."
   ]
  },
  {
   "cell_type": "markdown",
   "metadata": {},
   "source": [
    "This ring of cosets is called the quotient ring of $R$ by $I=\\operatorname{ker} \\varphi$ and is denoted $R / I$. Note that the additive structure of the ring $R / I$ is just the additive quotient group of the additive abelian group $R$ by the (necessarily normal) subgroup $I$. When $I$ is the kernel of some homomorphism $\\varphi$ this additive abelian quotient group also has a multiplicative structure, defined by (7.2), which makes $R / I$ into a ring."
   ]
  },
  {
   "cell_type": "markdown",
   "metadata": {},
   "source": [
    "For commutative rings the notions of left, right and two-sided ideal coincide. We emphasize that to prove a subset $I$ of a ring $R$ is an ideal it is necessary to prove that $I$ is nonempty, closed under subtraction and closed under multiplication by all the elements of $R$ (and not just by elements of $I$ )."
   ]
  },
  {
   "cell_type": "markdown",
   "metadata": {},
   "source": [
    "##### Proposition 6. \n",
    "Let $R$ be a ring and let $I$ be an ideal of $R$. Then the (additive) quotient group $R / I$ is a ring under the binary operations:\n",
    "\n",
    "$$\n",
    "(r+I)+(s+I)=(r+s)+I \\quad \\text { and } \\quad(r+I) \\times(s+I)=(r s)+I\n",
    "$$\n",
    "\n",
    "for all $r, s \\in R$. Conversely, if $I$ is any subgroup such that the above operations are well defined, then $I$ is an ideal of $R$. "
   ]
  },
  {
   "cell_type": "markdown",
   "metadata": {},
   "source": [
    "##### Theorem 7.\n",
    "\n",
    "1. (The First Isomorphism Theorem for Rings) If $\\varphi: R \\rightarrow S$ is a homomorphism of rings, then the kernel of $\\varphi$ is an ideal of $R$, the image of $\\varphi$ is a subring of $S$ and $R / \\operatorname{ker} \\varphi$ is isomorphic as a ring to $\\varphi(R)$.\n",
    "\n",
    "2. If $I$ is any ideal of $R$, then the map\n",
    "$$\n",
    "R \\rightarrow R / I \\quad \\text { defined by } \\quad r \\mapsto r+I\n",
    "$$  \n",
    "is a surjective ring homomorphism with kernel $I$ (this homomorphism is called the natural projection of $R$ onto $R / I$ ). Thus every ideal is the kernel of a ring homomorphism and vice versa."
   ]
  },
  {
   "cell_type": "markdown",
   "metadata": {},
   "source": [
    "##### Theorem 8. \n",
    "\n",
    "Let $R$ be a ring.\n",
    "\n",
    "1. (The Second Isomorphism Theorem for Rings) Let $A$ be a subring and let $B$ be an ideal of $R$. Then $A+B=\\{a+b \\mid a \\in A, b \\in B\\}$ is a subring of $R, A \\cap B$ is an ideal of $A$ and $(A+B) / B \\cong A /(A \\cap B)$.\n",
    "\n",
    "2. (The Third Isomorphism Theorem for Rings) Let $I$ and $J$ be ideals of $R$ with $I \\subseteq J$. Then $J / I$ is an ideal of $R / I$ and $(R / I) /(J / I) \\cong R / J$.\n",
    "\n",
    "3. (The Fourth or Lattice Isomorphism Theorem for Rings) Let $I$ be an ideal of $R$. The correspondence $A \\leftrightarrow A / I$ is an inclusion preserving bijection between the set of subrings $A$ of $R$ that contain $I$ and the set of subrings of $R / I$. Furthermore, $A$ (a subring containing $I$ ) is an ideal of $R$ if and only if $A / I$ is an ideal of $R / I$. "
   ]
  },
  {
   "cell_type": "markdown",
   "metadata": {},
   "source": [
    "##### Example.\n"
   ]
  },
  {
   "cell_type": "code",
   "execution_count": null,
   "metadata": {},
   "outputs": [],
   "source": []
  },
  {
   "cell_type": "markdown",
   "metadata": {},
   "source": [
    "#### 7.4 Properties of Ideals"
   ]
  },
  {
   "cell_type": "markdown",
   "metadata": {},
   "source": [
    "##### Example.\n",
    "\n",
    "1. The trivial ideal 0 and the ideal $R$ are both principal: $0=(0)$ and $R=(1)$.\n",
    "\n",
    "2. $R$ = $\\mathbb{Z}$, Prove that Every ideal in $\\mathbb{Z}$ is principal.\n",
    "\n",
    "3. Prove that $(3, x)$ is not ideal in $\\mathbb{Z}[x]$."
   ]
  },
  {
   "cell_type": "markdown",
   "metadata": {},
   "source": [
    "##### Proposition 9. (Prove!)\n",
    "\n",
    "Let $I$ be an ideal of $R$.\n",
    "\n",
    "1. $I=R$ if and only if $I$ contains a unit.\n",
    "\n",
    "2. Assume $R$ is commutative. Then $R$ is a field if and only if its only ideals are 0 and $R$."
   ]
  },
  {
   "cell_type": "markdown",
   "metadata": {},
   "source": [
    "##### Corollary 10. (Prove!) \n",
    "\n",
    "If $R$ is a field then any nonzero ring homomorphism from $R$ into another ring is an injection."
   ]
  },
  {
   "cell_type": "markdown",
   "metadata": {},
   "source": [
    "##### Proposition 11.(Prove!) \n",
    "\n",
    "In a ring with identity every proper ideal is contained in a maximal ideal."
   ]
  },
  {
   "cell_type": "markdown",
   "metadata": {},
   "source": [
    "##### Proposition 12.(Prove!) \n",
    "\n",
    "Assume $R$ is commutative. The ideal $M$ is a maximal ideal if and only if the quotient ring $R / M$ is a field."
   ]
  },
  {
   "cell_type": "markdown",
   "metadata": {},
   "source": [
    "##### Example.\n",
    "\n",
    "1. Prove that $p\\mathbb{Z}$ is prime ideal in $\\mathbb{Z}$.\n",
    "\n",
    "2. (0) is prime ideal in $\\mathbb{Z}$, but NOT Maximal."
   ]
  },
  {
   "cell_type": "markdown",
   "metadata": {},
   "source": [
    "##### Proposition 13. (Prove) \n",
    "\n",
    "Assume $R$ is commutative. Then the ideal $P$ is a prime ideal in $R$ if and only if the quotient ring $R / P$ is an integral domain."
   ]
  },
  {
   "cell_type": "markdown",
   "metadata": {},
   "source": [
    "##### Corollary 14. (Prove!)\n",
    "\n",
    "Assume $R$ is commutative. Every maximal ideal of $R$ is a prime ideal.\n",
    "(Converse does NOT hold.)"
   ]
  },
  {
   "cell_type": "markdown",
   "metadata": {},
   "source": [
    "#### 7.5 Ring of fractions\n",
    "\n",
    "In this section, $R$ is commutation"
   ]
  },
  {
   "cell_type": "markdown",
   "metadata": {},
   "source": [
    "##### Theorem 15. (Prove!) \n",
    "\n",
    "Let $R$ be a commutative ring. Let $D$ be any nonempty subset of $R$ that does not contain 0 , does not contain any zero divisors and is closed under multiplication (i.e., $a b \\in D$ for all $a, b \\in D$ ). Then there is a commutative ring $Q$ with 1 such that $Q$ contains $R$ as a subring and every element of $D$ is a unit in $Q$. The ring $Q$ has the following additional properties.\n",
    "\n",
    "1. every element of $Q$ is of the form $r d^{-1}$ for some $r \\in R$ and $d \\in D$. In particular, if $D=R-\\{0\\}$ then $Q$ is a field.\n",
    "\n",
    "2. (uniqueness of $Q$ ) The ring $Q$ is the \"smallest\" ring containing $R$ in which all elements of $D$ become units, in the following sense. Let $S$ be any commutative ring with identity and let $\\varphi: R \\rightarrow S$ be any injective ring homomorphism such that $\\varphi(d)$ is a unit in $S$ for every $d \\in D$. Then there is an injective homomorphism $\\Phi: Q \\rightarrow S$ such that $\\left.\\Phi\\right|_{R}=\\varphi$. In other words, any ring containing an isomorphic copy of $R$ in which all the elements of $D$ become units must also contain an isomorphic copy of $Q$."
   ]
  },
  {
   "cell_type": "markdown",
   "metadata": {},
   "source": [
    "##### RMK\n",
    "\n",
    "$R$ is subring of $\\mathbb{Q}$  \n",
    "\n",
    "Prove that $\\varphi: R \\rightarrow \\mathbb{Q}$ is an injective ring homomorphism.\n",
    "\n",
    "$$\n",
    "\\varphi: R \\rightarrow Q \\quad \\text { by } \\quad \\varphi: r \\mapsto \\frac{r d}{d} \\quad \\text { where } d \\text { is any element of } D\n",
    "$$\n"
   ]
  },
  {
   "cell_type": "markdown",
   "metadata": {},
   "source": [
    "##### Example.\n",
    "\n",
    "1. If $R$ is a field then its field of fractions is just $R$ itself.\n",
    "\n",
    "2. The integers $\\mathbb{Z}$ are an integral domain whose field of fractions is the field $\\mathbb{Q}$ of rational numbers. \n",
    "\n",
    "3. Prove that If $R$ is any integral domain, then the polynomial ring $R[x]$ is also an integral domain."
   ]
  },
  {
   "cell_type": "markdown",
   "metadata": {},
   "source": [
    "#### 7.6 The Chinese Remainder Theorem"
   ]
  },
  {
   "cell_type": "markdown",
   "metadata": {},
   "source": [
    "##### Theorem 17. (Chinese Remainder Theorem) (Prove!***)\n",
    "\n",
    "Let $A_{1}, A_{2}, \\ldots, A_{k}$ be ideals in $R$. The map\n",
    "\n",
    "$R \\rightarrow R / A_{1} \\times R / A_{2} \\times \\cdots \\times R / A_{k} \\quad$ defined by $\\quad r \\mapsto\\left(r+A_{1}, r+A_{2}, \\ldots, r+A_{k}\\right)$ is a ring homomorphism with kernel $A_{1} \\cap A_{2} \\cap \\cdots \\cap A_{k}$. If for each $i, j \\in\\{1,2, \\ldots, k\\}$ with $i \\neq j$ the ideals $A_{i}$ and $A_{j}$ are comaximal, then this map is surjective and $A_{1} \\cap A_{2} \\cap \\cdots \\cap A_{k}=A_{1} A_{2} \\cdots A_{k}$, so\n",
    "\n",
    "$$\n",
    "R /\\left(A_{1} A_{2} \\cdots A_{k}\\right)=R /\\left(A_{1} \\cap A_{2} \\cap \\cdots \\cap A_{k}\\right) \\cong R / A_{1} \\times R / A_{2} \\times \\cdots \\times R / A_{k}\n",
    "$$"
   ]
  },
  {
   "cell_type": "markdown",
   "metadata": {},
   "source": [
    "##### Corollary 18. \n",
    "\n",
    "Let $n$ be a positive integer and let $p_{1}^{\\alpha_{1}} p_{2}^{\\alpha_{2}} \\ldots p_{k}^{\\alpha_{k}}$ be its factorization into powers of distinct primes. Then\n",
    "\n",
    "$$\n",
    "\\mathbb{Z} / n \\mathbb{Z} \\cong\\left(\\mathbb{Z} / p_{1}^{\\alpha_{1}} \\mathbb{Z}\\right) \\times\\left(\\mathbb{Z} / p_{2}^{\\alpha_{2}} \\mathbb{Z}\\right) \\times \\cdots \\times\\left(\\mathbb{Z} / p_{k}^{\\alpha_{k}} \\mathbb{Z}\\right)\n",
    "$$\n",
    "\n",
    "as rings, so in particular we have the following isomorphism of multiplicative groups:\n",
    "\n",
    "$$\n",
    "(\\mathbb{Z} / n \\mathbb{Z})^{\\times} \\cong\\left(\\mathbb{Z} / p_{1}^{\\alpha_{1}} \\mathbb{Z}\\right)^{\\times} \\times\\left(\\mathbb{Z} / p_{2}^{\\alpha_{2}} \\mathbb{Z}\\right)^{\\times} \\times \\cdots \\times\\left(\\mathbb{Z} / p_{k}^{\\alpha_{k}} \\mathbb{Z}\\right)^{\\times}\n",
    "$$"
   ]
  },
  {
   "cell_type": "markdown",
   "metadata": {},
   "source": [
    "##### Exer. 7.6-3. (Prove!) \n",
    "\n",
    "Let $R$ and $S$ be rings with identities. Prove that every ideal of $R \\times S$ is of the form $I \\times J$ where $I$ is an ideal of $R$ and $J$ is an ideal of $S$."
   ]
  },
  {
   "cell_type": "markdown",
   "metadata": {},
   "source": [
    "#### Chapter 8"
   ]
  },
  {
   "cell_type": "markdown",
   "metadata": {},
   "source": [
    "#### 8.1 Euclidean Domains"
   ]
  },
  {
   "cell_type": "markdown",
   "metadata": {},
   "source": [
    "##### Example.\n",
    "\n",
    "1. The integers $\\mathbb{Z}$ are a Euclidean Domain with norm given by $N(a)=|a|$, the usual absolute value. \n",
    "\n",
    "2. (2) If $F$ is a field, then the polynomial ring $F[x]$ is a Euclidean Domain with norm given by $N(p(x))=$ the degree of $p(x)$ (Prove!)\n",
    "\n",
    "3. $\\mathbb{Z}[x]$ is not Euclidean Domain. (Prove!)\n",
    "\n",
    "4. Prove that $\\mathbb{Z}[i]$ is a Euclidean Domain\n",
    "\n",
    "5. $\\mathbb{Z}[\\sqrt{-2}], \\mathbb{Z}[\\frac{1+\\sqrt{-3}}{2}],\\mathbb{Z}[\\frac{1+\\sqrt{-7}}{2}], \\mathbb{Z}[\\frac{1+\\sqrt{-11}}{2}]$ is Euclidean Domain.\n",
    "\n",
    "6. Prove that $\\mathbb{Z}[\\frac{1+\\sqrt{-11}}{2}]$ is Euclidean Domain.\n",
    "\n",
    "7. Prove that $\\mathbb{Z}[\\frac{1+\\sqrt{-5}}{2}]$ is not Euclidean Domain."
   ]
  },
  {
   "cell_type": "markdown",
   "metadata": {},
   "source": [
    "##### Proposition 1.(Prove!) \n",
    "Every ideal in a Euclidean Domain is principal. More precisely, if $I$ is any nonzero ideal in the Euclidean Domain $R$ then $I=(d)$, where $d$ is any nonzero element of $I$ of minimum norm."
   ]
  },
  {
   "cell_type": "markdown",
   "metadata": {},
   "source": [
    "##### Example.\n",
    "\n",
    "1. Let $R=\\mathbb{Z}[x]$ : Since the ideal $(2, x)$ is not principal.  \n",
    "it follows that the ring $\\mathbb{Z}[x]$ of polynomials with integer coefficients is not a Euclidean Domain (for any choice of norm), even though the ring $\\mathbb{Q}[x]$ of polynomials with rational coefficients is a Euclidean Domain.\n",
    "\n",
    "2. Prove that $\\mathbb{Z}[\\sqrt{-5}]$ is not Euclidean Domain."
   ]
  },
  {
   "cell_type": "markdown",
   "metadata": {},
   "source": [
    "##### Proposition 2. \n",
    "\n",
    "If $a$ and $b$ are nonzero elements in the commutative ring $R$ such that the ideal generated by $a$ and $b$ is a principal ideal $(d)$, then $d$ is a greatest common divisor of $a$ and $b$."
   ]
  },
  {
   "cell_type": "markdown",
   "metadata": {},
   "source": [
    "Note that the condition in Proposition 2 is not a necessary condition. For example, in the ring $R=\\mathbb{Z}[x]$ the elements 2 and $x$ generate a maximal, nonprincipal ideal (cf. the examples in Section 7.4). Thus $R=(1)$ is the unique principal ideal containing both 2 and $x$, so 1 is a greatest common divisor of 2 and $x$. We shall see other examples along these lines in Section 3."
   ]
  },
  {
   "cell_type": "markdown",
   "metadata": {},
   "source": [
    "##### Proposition 3.(Prove!)\n",
    "\n",
    "Let $R$ be an integral domain. If two elements $d$ and $d^{\\prime}$ of $R$ generate the same principal ideal, i.e., $(d)=\\left(d^{\\prime}\\right)$, then $d^{\\prime}=u d$ for some unit $u$ in $R$.   \n",
    "In particular, if $d$ and $d^{\\prime}$ are both greatest common divisors of $a$ and $b$, then $d^{\\prime}=u d$ for some unit $u$. "
   ]
  },
  {
   "cell_type": "markdown",
   "metadata": {},
   "source": [
    "##### Theorem 4. (Prove!)\n",
    "\n",
    "Let $R$ be a Euclidean Domain and let $a$ and $b$ be nonzero elements of $R$. Let $d=r_{n}$ be the last nonzero remainder in the Euclidean Algorithm for $a$ and $b$ described at the beginning of this chapter. Then\n",
    "\n",
    "1. $d$ is a greatest common divisor of $a$ and $b$, and\n",
    "\n",
    "2. the principal ideal $(d)$ is the ideal generated by $a$ and $b$. In particular, $d$ can be written as an $R$-linear combination of $a$ and $b$, i.e., there are elements $x$ and $y$ in $R$ such that\n",
    "\n",
    "$$\n",
    "d=a x+b y\n",
    "$$"
   ]
  },
  {
   "cell_type": "markdown",
   "metadata": {},
   "source": [
    "##### Example.\n",
    "\n",
    "a = 2023, b = 637 로 위의 Thm처럼 되는지 보이자"
   ]
  },
  {
   "cell_type": "markdown",
   "metadata": {},
   "source": [
    "#### 8.2 Principal Ideal Domains (P.I.D.s)"
   ]
  },
  {
   "cell_type": "markdown",
   "metadata": {},
   "source": [
    "##### Example.\n",
    "\n",
    "1. As mentioned after Proposition 1, the integers $\\mathbb{Z}$ are a P.I.D. We saw in Section 7.4 that the polynomial ring $\\mathbb{Z}[x]$ contains nonprincipal ideals, hence is not a P.I.D.\n",
    "\n",
    "2. Example 2 following Proposition 1 showed that the quadratic integer ring $\\mathbb{Z}[\\sqrt{-5}]$ is not a P.I.D., in fact the ideal $(3,1+\\sqrt{-5})$ is a nonprincipal ideal. It is possible for the product $I J$ of two nonprincipal ideals $I$ and $J$ to be principal, for example the ideals $(3,1+\\sqrt{-5})$ and $(3,1-\\sqrt{-5})$ are both nonprincipal and their product is the principal ideal generated by 3 , i.e., $(3,1+\\sqrt{-5})(3,1-\\sqrt{-5})=(3)$ (cf. Exercise 5 and the example preceding Proposition 12 below).\n",
    "\n",
    "3. It is not true that every Principal Ideal Domain is a Euclidean Domain. We shall prove below that the quadratic integer ring $\\mathbb{Z}[(1+\\sqrt{-19}) / 2]$, which was shown not to be a Euclidean Domain in the previous section, nevertheless is a P.I.D."
   ]
  },
  {
   "cell_type": "markdown",
   "metadata": {},
   "source": [
    "##### Proposition 6. \n",
    "Let $R$ be a Principal Ideal Domain and let $a$ and $b$ be nonzero elements of $R$. Let $d$ be a generator for the principal ideal generated by $a$ and $b$. Then\n",
    "\n",
    "1. $d$ is a greatest common divisor of $a$ and $b$\n",
    "\n",
    "2. $d$ can be written as an $R$-linear combination of $a$ and $b$, i.e., there are elements $x$ and $y$ in $R$ with\n",
    "\n",
    "$$\n",
    "d=a x+b y\n",
    "$$\n",
    "\n",
    "3. $d$ is unique up to multiplication by a unit of $R$."
   ]
  },
  {
   "cell_type": "markdown",
   "metadata": {},
   "source": [
    "##### Proposition 7. (Prove!) \n",
    "\n",
    "Every nonzero prime ideal in a Principal Ideal Domain is a maximal ideal."
   ]
  },
  {
   "cell_type": "markdown",
   "metadata": {},
   "source": [
    "##### Thm.\n",
    "\n",
    "if $F$ is a field, then the polynomial ring $F[x]$ is a Euclidean Domain, hence also a Principal Ideal Domain"
   ]
  },
  {
   "cell_type": "markdown",
   "metadata": {},
   "source": [
    "##### Corollary 8. \n",
    "\n",
    "If $R$ is any commutative ring such that the polynomial ring $R[x]$ is a Principal Ideal Domain (or a Euclidean Domain), then $R$ is necessarily a field."
   ]
  },
  {
   "cell_type": "markdown",
   "metadata": {},
   "source": [
    "#### 8.3 Unique Factorization Domains(U.F.D.s)"
   ]
  },
  {
   "cell_type": "markdown",
   "metadata": {},
   "source": [
    "##### Proposition 10. (Prove!)\n",
    "In an integral domain a prime element is always irreducible."
   ]
  },
  {
   "cell_type": "markdown",
   "metadata": {},
   "source": [
    "##### Example. (Prove!)\n",
    "\n",
    "It is not true in general that an irreducible element is necessarily prime. For example, consider the element 3 in the quadratic integer ring $R=\\mathbb{Z}[\\sqrt{-5}]$.  \n",
    "**Show** that 3 is irreducible in $R$, but 3 is not a prime."
   ]
  },
  {
   "cell_type": "markdown",
   "metadata": {},
   "source": [
    "##### Proposition 11.(Prove!) \n",
    "\n",
    "In a Principal Ideal Domain a nonzero element is a prime if and only if it is irreducible."
   ]
  },
  {
   "cell_type": "markdown",
   "metadata": {},
   "source": [
    "##### Example.\n",
    "\n",
    "1. Proposition 11 gives another proof that the quadratic integer ring $\\mathbb{Z}[\\sqrt{-5}]$ is not a P.I.D. since 3 is irreducible but not prime in this ring. "
   ]
  },
  {
   "cell_type": "markdown",
   "metadata": {},
   "source": [
    "##### Proposition 12.(Prove!) \n",
    "\n",
    "In a Unique Factorization Domain a nonzero element is a prime if and only if it is irreducible."
   ]
  },
  {
   "cell_type": "markdown",
   "metadata": {},
   "source": [
    "##### Proposition 13. \n",
    "\n",
    "Let $a$ and $b$ be two nonzero elements of the Unique Factorization Domain $R$ and suppose\n",
    "\n",
    "$$\n",
    "a=u p_{1}{ }^{e_{1}} p_{2}{ }^{e_{2}} \\cdots p_{n}{ }^{e_{n}} \\quad \\text { and } \\quad b=v p_{1}{ }^{f_{1}} p_{2}{ }^{f_{2}} \\cdots p_{n}{ }^{f_{n}}\n",
    "$$\n",
    "\n",
    "are prime factorizations for $a$ and $b$, where $u$ and $v$ are units, the primes $p_{1}, p_{2}, \\ldots, p_{n}$ are distinct and the exponents $e_{i}$ and $f_{i}$ are $\\geq 0$. Then the element\n",
    "\n",
    "$$\n",
    "d=p_{1}{ }^{\\min \\left(e_{1}, f_{1}\\right)} p_{2}{ }^{\\min \\left(e_{2}, f_{2}\\right)} \\cdots p_{n}{ }^{\\min \\left(e_{n}, f_{n}\\right)}\n",
    "$$\n",
    "\n",
    "(where $d=1$ if all the exponents are 0 ) is a greatest common divisor of $a$ and $b$."
   ]
  },
  {
   "cell_type": "markdown",
   "metadata": {},
   "source": [
    "##### Theorem 14. (Prove! *******)\n",
    "Every Principal Ideal Domain is a Unique Factorization Domain. In particular, every Euclidean Domain is a Unique Factorization Domain.\n"
   ]
  },
  {
   "cell_type": "markdown",
   "metadata": {},
   "source": [
    "#### Chapter 9 Polynomial rings\n",
    "#### 9.1 Definition and basic properties\n",
    "\n",
    "##### Proposition 2. (Prove!) \n",
    "Let $I$ be an ideal of the ring $R$ and let $(I)=I[x]$ denote the ideal of $R[x]$ generated by $I$ (the set of polynomials with coefficients in $I$ ). Then\n",
    "\n",
    "$$\n",
    "R[x] /(I) \\cong(R / I)[x]\n",
    "$$\n",
    "\n",
    "In particular, if $I$ is a prime ideal of $R$ then $(I)$ is a prime ideal of $R[x]$."
   ]
  },
  {
   "cell_type": "markdown",
   "metadata": {},
   "source": [
    "##### Example.\n",
    "\n",
    "1. If $n$ is a prime $p$, then $\\mathbb{Z} / p \\mathbb{Z}$ is a field and so $\\mathbb{Z} / p \\mathbb{Z}[x]$ is an integral domain.\n",
    "\n",
    "2. The polynomial ring $\\mathbb{Z}[x, y]$ in two variables $x$ and $y$ with integer coefficients consists of all finite sums of monomial terms of the form $a x^{i} y^{j}$ (of degree $i+j$).  \n",
    "    For example,\n",
    "\n",
    "    $$\n",
    "    p(x, y)=2 x^{3}+x y-y^{2}\n",
    "    $$\n",
    "\n",
    "    and\n",
    "\n",
    "    $$\n",
    "    q(x, y)=-3 x y+2 y^{2}+x^{2} y^{3}\n",
    "    $$\n",
    "\n",
    "    are both elements of $\\mathbb{Z}[x, y]$, of degrees 3 and 5 , respectively. We have\n",
    "\n",
    "    $$\n",
    "    p(x, y)+q(x, y)=2 x^{3}-2 x y+y^{2}+x^{2} y^{3}\n",
    "    $$\n",
    "\n",
    "    and\n",
    "\n",
    "    $$\n",
    "    p(x, y) q(x, y)=-6 x^{4} y+4 x^{3} y^{2}+2 x^{5} y^{3}-3 x^{2} y^{2}+5 x y^{3}+x^{3} y^{4}-2 y^{4}-x^{2} y^{5},\n",
    "    $$\n",
    "\n",
    "    a polynomial of degree 8. To view this last polynomial, say, as a polynomial in $y$ with coefficients in $\\mathbb{Z}[x]$ as in the definition of several variable polynomial rings above, we would write the polynomial in the form\n",
    "\n",
    "    $$\n",
    "    \\left(-6 x^{4}\\right) y+\\left(4 x^{3}-3 x^{2}\\right) y^{2}+\\left(2 x^{5}+5 x\\right) y^{3}+\\left(x^{3}-2\\right) y^{4}-\\left(x^{2}\\right) y^{5} .\n",
    "    $$\n",
    "\n",
    "    The nonzero homogeneous components of $f=f(x, y)=p(x, y) q(x, y)$ are the polynomials $f_{4}=-3 x^{2} y^{2}+5 x y^{3}-2 y^{4}$ (degree 4), $f_{5}=-6 x^{4} y+4 x^{3} y^{2}$ (degree 5), $f_{7}=x^{3} y^{4}-x^{2} y^{5}$ (degree 7), and $f_{8}=2 x^{5} y^{3}$ (degree 8$)$. "
   ]
  },
  {
   "cell_type": "markdown",
   "metadata": {},
   "source": [
    "#### 9.2 Polynomial rings over fields"
   ]
  },
  {
   "cell_type": "markdown",
   "metadata": {},
   "source": [
    "##### * Theorem 3. (Prove!)\n",
    "\n",
    "Let $F$ be a field. The polynomial ring $F[x]$ is a Euclidean Domain. Specifically, if $a(x)$ and $b(x)$ are two polynomials in $F[x]$ with $b(x)$ nonzero, then there are unique $q(x)$ and $r(x)$ in $F[x]$ such that\n",
    "\n",
    "$$\n",
    "a(x)=q(x) b(x)+r(x) \\quad \\text { with } r(x)=0 \\text { or degree } r(x)<\\operatorname{degree} b(x)\n",
    "$$"
   ]
  },
  {
   "cell_type": "markdown",
   "metadata": {},
   "source": [
    "##### Corollary 4. \n",
    "If $F$ is a field, then $F[x]$ is a Principal Ideal Domain and a Unique Factorization Domain."
   ]
  },
  {
   "cell_type": "markdown",
   "metadata": {},
   "source": [
    "##### Recall \n",
    "if $R$ is any commutative ring such that $R[x]$ is a Principal Ideal Domain (or Euclidean Domain) then $R$ must be a field.  \n",
    "We shall see in the next section, however, that $R[x]$ is a Unique Factorization Domain whenever $R$ itself is a Unique Factorization Domain."
   ]
  },
  {
   "cell_type": "markdown",
   "metadata": {},
   "source": [
    "##### Example.\n",
    "\n",
    "1. **The ring $\\mathbb{Z}[x]$ is not a Principal Ideal Domain.** As we have already seen (Example 3 beginning of Section 7.4) the ideal $(2, x)$ is not principal in this ring.\n",
    "\n",
    "2. **$\\mathbb{Q}[x]$ is a Principal Ideal Domain** since the coefficients lie in the field $\\mathbb{Q}$. The ideal generated in $\\mathbb{Z}[x]$ by 2 and $x$ is not principal in the subring $\\mathbb{Z}[x]$ of $\\mathbb{Q}[x]$. However, the ideal generated in $\\mathbb{Q}[x]$ is principal; in fact it is the entire ring (so has 1 as a generator) since 2 is a unit in $\\mathbb{Q}[x]$.\n",
    "\n",
    "3. **If $p$ is a prime, the ring $\\mathbb{Z} / p \\mathbb{Z}[x]$ obtained by reducing $\\mathbb{Z}[x]$ modulo the prime ideal $(p)$ is a Principal Ideal Domain**, since the coefficients lie in the field $\\mathbb{Z} / p \\mathbb{Z}$. This example shows that the quotient of a ring which is not a Principal Ideal Domain may be a Principal Ideal Domain. To follow the ideal $(2, x)$ above in this example, note\n",
    "\n",
    "4. **$\\mathbb{Q}[x, y]$, the ring of polynomials in two variables with rational coefficients, is not a Principal Ideal Domain** since this ring is $\\mathbb{Q}[x][y]$ and $\\mathbb{Q}[x]$ is not a field (any element of positive degree is not invertible)."
   ]
  },
  {
   "cell_type": "markdown",
   "metadata": {},
   "source": [
    "#### 9.3 Polynomial rings that are U.F.D.s"
   ]
  },
  {
   "cell_type": "markdown",
   "metadata": {},
   "source": [
    "##### Lemma1\n",
    "If $R[x]$ is U.F.D, then R : U.F.D"
   ]
  },
  {
   "cell_type": "markdown",
   "metadata": {},
   "source": [
    "##### * Gauss' Lemma (Prove!)\n",
    "\n",
    "Let $R$ be a Unique Factorization Domain with field of fractions $F$ and let $p(x) \\in R[x]$.   \n",
    "If $p(x)$ is reducible in $F[x]$ then $p(x)$ is reducible in $R[x]$.   \n",
    "More precisely,   \n",
    "if $p(x)=A(x) B(x)$ for some nonconstant polynomials $A(x), B(x) \\in F[x]$,   \n",
    "then there are nonzero elements $r, s \\in F$ such that $r A(x)=a(x)$ and $s B(x)=b(x)$ both lie in $R[x]$ and $p(x)=a(x) b(x)$ is a factorization in $R[x]$."
   ]
  },
  {
   "cell_type": "markdown",
   "metadata": {},
   "source": [
    "##### coro. Gauss' Lemma\n",
    "\n",
    "Let $R$ be a Unique Factorization Domain, let $F$ be its field of fractions and let $p(x) \\in R[x]$.   \n",
    "Suppose the greatest common divisor of the coefficients of $p(x)$ is 1.   \n",
    "Then $p(x)$ is irreducible in $R[x]$ if and only if it is irreducible in $F[x]$.   \n",
    "In particular, if $p(x)$ is a monic polynomial that is irreducible in $R[x]$,   \n",
    "then $p(x)$ is irreducible in $F[x]$."
   ]
  },
  {
   "cell_type": "markdown",
   "metadata": {},
   "source": [
    "##### Thm\n",
    "\n",
    "$R$ is a Unique Factorization Domain if and only if $R[x]$ is a Unique Factorization Domain.\n",
    "\n",
    "=> : Lemma1  \n",
    "<= : Gauss' Lemma"
   ]
  },
  {
   "cell_type": "markdown",
   "metadata": {},
   "source": [
    "##### Example.\n",
    "\n",
    "1. $\\mathbb{Z}[x], \\mathbb{Z}[x, y]$, etc. are Unique Factorization Domains. The ring $\\mathbb{Z}[x]$ gives an example of a Unique Factorization Domain that is not a Principal Ideal Domain.\n",
    "\n",
    "2. Similarly, $\\mathbb{Q}[x], \\mathbb{Q}[x, y]$, etc. are Unique Factorization Domains. \n",
    "\n",
    "3. $R$ : U.F.D if and only if $R[x_1, x_2, ..., x_n]$ : U.F.D\n"
   ]
  }
 ],
 "metadata": {
  "kernelspec": {
   "display_name": "Python 3.10.8 ('epi')",
   "language": "python",
   "name": "python3"
  },
  "language_info": {
   "name": "python",
   "version": "3.10.8"
  },
  "orig_nbformat": 4,
  "vscode": {
   "interpreter": {
    "hash": "2c9536bba0972c0ce9f364af87873760aac530bfb0bd7aa5f58a221fe4207ade"
   }
  }
 },
 "nbformat": 4,
 "nbformat_minor": 2
}
