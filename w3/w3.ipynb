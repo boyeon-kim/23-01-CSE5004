{
 "cells": [
  {
   "cell_type": "code",
   "execution_count": 2,
   "metadata": {},
   "outputs": [],
   "source": [
    "import numpy as np\n",
    "import matplotlib.pyplot as plt"
   ]
  },
  {
   "cell_type": "markdown",
   "metadata": {},
   "source": [
    "#### numpy : array 자료형[]을 이용한 수치계산 \n",
    "\n",
    "패키지와 모듈을 불러오는 방법 \n",
    "\n",
    "from 'library name' import 'package name or module name'\n",
    "\n",
    "from 'library name' import * : 라이브러리 내의 모든 패키지 불러옴 --> 코드가 너무 길어지고, 충돌이 발생 할 수 있음\n",
    "\n",
    "메모리 할당까지 모두 고민해서 transpose하도록 해놨으니 a.T를 사용하여라\n"
   ]
  },
  {
   "cell_type": "code",
   "execution_count": 4,
   "metadata": {},
   "outputs": [
    {
     "name": "stdout",
     "output_type": "stream",
     "text": [
      "[[0.76699884 0.87358144 0.29318313]\n",
      " [0.27162073 0.19994471 0.55927555]]\n",
      "2.9646044062566466\n",
      "[1.03861957 1.07352615 0.85245868]\n",
      "[1.93376341 1.03084099]\n"
     ]
    }
   ],
   "source": [
    "a = np.random.random((2,3))\n",
    "print(a)\n",
    "# all\n",
    "print(a.sum())\n",
    "# column sum\n",
    "print(a.sum(axis=0))\n",
    "# row sum\n",
    "print(a.sum(axis=1))\n"
   ]
  },
  {
   "cell_type": "code",
   "execution_count": null,
   "metadata": {},
   "outputs": [],
   "source": []
  }
 ],
 "metadata": {
  "kernelspec": {
   "display_name": "Python 3.7.16 ('cse5023')",
   "language": "python",
   "name": "python3"
  },
  "language_info": {
   "codemirror_mode": {
    "name": "ipython",
    "version": 3
   },
   "file_extension": ".py",
   "mimetype": "text/x-python",
   "name": "python",
   "nbconvert_exporter": "python",
   "pygments_lexer": "ipython3",
   "version": "3.7.16"
  },
  "orig_nbformat": 4,
  "vscode": {
   "interpreter": {
    "hash": "602de0c73c109094cedfda7c35ab100a68af9d3b7e04fed29a0604263ee7b924"
   }
  }
 },
 "nbformat": 4,
 "nbformat_minor": 2
}
