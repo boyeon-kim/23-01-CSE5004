{
 "cells": [
  {
   "cell_type": "markdown",
   "metadata": {},
   "source": [
    "### HW6. Stokes second problem\n",
    "### 2022313047 Boyeon,Kim"
   ]
  },
  {
   "cell_type": "code",
   "execution_count": 1,
   "metadata": {},
   "outputs": [],
   "source": [
    "import numpy as np\n",
    "import matplotlib.pyplot as plt\n",
    "from mpl_toolkits.mplot3d import Axes3D"
   ]
  },
  {
   "cell_type": "code",
   "execution_count": 2,
   "metadata": {},
   "outputs": [],
   "source": [
    "# Set plot params\n",
    "plt.rcParams['figure.figsize'] = [5,5]\n",
    "plt.rcParams['font.size'] = 15\n",
    "plt.rcParams['font.family'] = 'Times New Roman'\n",
    "plt.rcParams['axes.linewidth'] = 2\n",
    "plt.rcParams['lines.linewidth'] = 2\n",
    "plt.rcParams['xtick.direction'] = 'out'\n",
    "plt.rcParams['ytick.direction'] = 'out'\n",
    "plt.rcParams['xtick.minor.visible'] = True\n",
    "plt.rcParams['ytick.minor.visible'] = True\n",
    "plt.rcParams['xtick.major.size'] = 7\n",
    "plt.rcParams['ytick.major.size'] = 7\n",
    "plt.rcParams['xtick.minor.size'] = 3.5\n",
    "plt.rcParams['ytick.minor.size'] = 3.5\n",
    "plt.rcParams['xtick.major.width'] = 1.5\n",
    "plt.rcParams['ytick.major.width'] = 1.5\n",
    "plt.rcParams['xtick.minor.width'] = 1.5\n",
    "plt.rcParams['ytick.minor.width'] = 1.5\n",
    "plt.rcParams['xtick.top'] = True\n",
    "plt.rcParams['ytick.right'] = True"
   ]
  },
  {
   "cell_type": "markdown",
   "metadata": {},
   "source": [
    "#### Consider an infinitely extended flat wall carrying out harmonic oscillation in its own plane (see Figure 1). Due to the no-slip condition, the flow velocity at the wall (where $y = 0$) is $u(0, t) = U_0 cos(nt)$."
   ]
  },
  {
   "cell_type": "markdown",
   "metadata": {},
   "source": [
    "#### 1. (Analytic solution)\n",
    "(1) Starting from the three-dimensional Navier-Stokes equations, derive the simplified governing equation for the Stokes second problem. Provide all of the assumptions that are used in your derivation. \n",
    "\n",
    "eq.(1)  \n",
    "$\\frac{\\partial u}{\\partial t} = \\nu \\frac{\\partial^2 u}{\\partial y^2}$"
   ]
  },
  {
   "cell_type": "markdown",
   "metadata": {},
   "source": [
    "#### (2) Show that the solution to the Stokes second problem is\n",
    "\n",
    "eq.(2)  \n",
    "$u(y, t) = U_0 e^{-{\\eta}_s} cos(nt - \\eta_s)$, where  $\\eta_s = \\sqrt{\\frac{n}{2\\nu}} y$"
   ]
  },
  {
   "cell_type": "markdown",
   "metadata": {},
   "source": []
  },
  {
   "cell_type": "code",
   "execution_count": 4,
   "metadata": {},
   "outputs": [
    {
     "name": "stderr",
     "output_type": "stream",
     "text": [
      "/var/folders/7f/s2tq0kfs4y38nvt9g6sw6r9c0000gn/T/ipykernel_12642/865995349.py:27: RuntimeWarning: overflow encountered in double_scalars\n",
      "  u[i+1, j] = u[i, j] - u[i, j]*(dt/dy)*(u[i, j] - u[i, j-1]) + nu*(dt/dy**2)*(u[i, j+1] - 2*u[i, j] + u[i, j-1])\n",
      "/var/folders/7f/s2tq0kfs4y38nvt9g6sw6r9c0000gn/T/ipykernel_12642/865995349.py:27: RuntimeWarning: invalid value encountered in double_scalars\n",
      "  u[i+1, j] = u[i, j] - u[i, j]*(dt/dy)*(u[i, j] - u[i, j-1]) + nu*(dt/dy**2)*(u[i, j+1] - 2*u[i, j] + u[i, j-1])\n"
     ]
    },
    {
     "data": {
      "image/png": "[encoded data removed]",
      "text/plain": [
       "<Figure size 360x360 with 1 Axes>"
      ]
     },
     "metadata": {
      "needs_background": "light"
     },
     "output_type": "display_data"
    }
   ],
   "source": [
    "import numpy as np\n",
    "import matplotlib.pyplot as plt\n",
    "\n",
    "# Given parameters\n",
    "nu = 1\n",
    "n = 2\n",
    "U0 = 1\n",
    "L = 10\n",
    "T = 10*np.pi\n",
    "nt = np.array([0, np.pi/2, np.pi, 3*np.pi/2, 2*np.pi])\n",
    "\n",
    "# Discretization parameters\n",
    "N = 100  # number of spatial points\n",
    "M = 1000  # number of time points\n",
    "y = np.linspace(0, L, N)\n",
    "t = np.linspace(0, T, M)\n",
    "dy = y[1] - y[0]\n",
    "dt = t[1] - t[0]\n",
    "\n",
    "# Initial condition\n",
    "u = np.zeros((M, N))\n",
    "u[:, 0] = np.cos(n*t)\n",
    "\n",
    "# FTCS scheme\n",
    "for i in range(M-1):\n",
    "    for j in range(1, N-1):\n",
    "        u[i+1, j] = u[i, j] - u[i, j]*(dt/dy)*(u[i, j] - u[i, j-1]) + nu*(dt/dy**2)*(u[i, j+1] - 2*u[i, j] + u[i, j-1])\n",
    "    u[i+1, -1] = u[i+1, -2]  # boundary condition at y = L\n",
    "\n",
    "# Plot velocity profiles\n",
    "for nti in nt:\n",
    "    plt.plot(u[int(nti/dt), :], y, label=f\"nt={nti}\")\n",
    "plt.legend()\n",
    "plt.show()\n"
   ]
  }
 ],
 "metadata": {
  "kernelspec": {
   "display_name": "Python 3 (ipykernel)",
   "language": "python",
   "name": "python3"
  },
  "language_info": {
   "codemirror_mode": {
    "name": "ipython",
    "version": 3
   },
   "file_extension": ".py",
   "mimetype": "text/x-python",
   "name": "python",
   "nbconvert_exporter": "python",
   "pygments_lexer": "ipython3",
   "version": "3.9.12"
  },
  "vscode": {
   "interpreter": {
    "hash": "602de0c73c109094cedfda7c35ab100a68af9d3b7e04fed29a0604263ee7b924"
   }
  }
 },
 "nbformat": 4,
 "nbformat_minor": 2
}
