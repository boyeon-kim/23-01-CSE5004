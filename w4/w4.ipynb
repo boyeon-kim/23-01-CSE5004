{
 "cells": [
  {
   "cell_type": "markdown",
   "metadata": {},
   "source": [
    "## Lecture4. 프로그래밍 & 의사코드(psudo code)"
   ]
  },
  {
   "cell_type": "markdown",
   "metadata": {},
   "source": [
    "<좋은 프로그래밍이란?>\n",
    "- 정확성 : validation (실제 문제와 얼마나 맞는지) / verification (방정식을 잘 풀었는지, 오차범위 내에서 잘 나왔는지)  \n",
    "    ex)   \n",
    "    Ax = b를 푸는 과정이 올바른지 (varification : analytic solution)  \n",
    "    실제 문제에 Ax = b를 대입해서 풀었는데 잘 맞는지? (validation)\n",
    "\n",
    "    Verification is the process of checking that a software achieves its goal without any bugs. It is the process to ensure whether the product that is developed is right or not. It verifies whether the developed product fulfills the requirements that we have. Verification is static testing. \n",
    "    Verification means Are we building the product right? \n",
    "\n",
    "    Validation is the process of checking whether the software product is up to the mark or in other words product has high level requirements. It is the process of checking the validation of product i.e. it checks what we are developing is the right product. it is validation of actual and expected product. Validation is the dynamic testing. \n",
    "    Validation means Are we building the right product? \n",
    "\n",
    "- 재사용성 : 누가 와서 풀어도 똑같아야 함  \n",
    "    나는 이 문제를 얼마만에 풀 수 있는가?를 항상 체크해봐야함 (시간 check를 일상적으로 해야함)   \n",
    "    --> 그래야 풀 수 있는 것과 없는 것을 구분 할 수 있음\n",
    "    * 코드가 돌아갔다고 행복해하고(하루정도 beer!) 이제 부터 시간을 재서 확장성이 있는지 확인하라  \n",
    "    * ver.0 (누더기일 것..) 저장 후 디버깅으로 최적화 하라  \n",
    "    * 코드 경량화가 정말정말 중요해!  \n",
    "    --> 이 때, 유지보수성을 높이도록 노력해야함\n",
    "\n",
    "- 확장성 : 대규모 분산 시스템에서도 동작할 수 있도록 설계  \n",
    "    * 매트랩 병렬 가능할 걸? (찾아보기)"
   ]
  },
  {
   "cell_type": "code",
   "execution_count": 1,
   "metadata": {},
   "outputs": [],
   "source": [
    "import numpy as np"
   ]
  },
  {
   "cell_type": "code",
   "execution_count": 5,
   "metadata": {},
   "outputs": [
    {
     "data": {
      "text/plain": [
       "5.201367359526748"
      ]
     },
     "execution_count": 5,
     "metadata": {},
     "output_type": "execute_result"
    }
   ],
   "source": [
    "# 더하기 예제\n",
    "#(X)\n",
    "np.random.seed(42)\n",
    "s = 0\n",
    "a = np.random.rand(10)\n",
    "for i in range(10):\n",
    "    s = s + a[i]\n",
    "s"
   ]
  },
  {
   "cell_type": "code",
   "execution_count": 7,
   "metadata": {},
   "outputs": [
    {
     "data": {
      "text/plain": [
       "5.201367359526748"
      ]
     },
     "execution_count": 7,
     "metadata": {},
     "output_type": "execute_result"
    }
   ],
   "source": [
    "# 좋은 예제 (n을 사용하여 가독성과 유지보수가 가능하게 만듬)\n",
    "np.random.seed(42)\n",
    "n = 10\n",
    "s = 0\n",
    "a = np.random.rand(n)\n",
    "for i in range(n):\n",
    "    s = s + a[i]\n",
    "s"
   ]
  },
  {
   "cell_type": "code",
   "execution_count": 8,
   "metadata": {},
   "outputs": [
    {
     "data": {
      "text/plain": [
       "5.201367359526748"
      ]
     },
     "execution_count": 8,
     "metadata": {},
     "output_type": "execute_result"
    }
   ],
   "source": [
    "# 기본 함수가 있으면 그걸 써!\n",
    "np.random.seed(42)\n",
    "n = 10\n",
    "s = sum(np.random.rand(n))\n",
    "s"
   ]
  },
  {
   "cell_type": "markdown",
   "metadata": {},
   "source": [
    "### 디버깅 (error종류)\n",
    "\n",
    "- Syntax error: 문법적 오류  \n",
    "\n",
    "- Runtime error:  \n",
    "    * type error : 변수 또는 인수 type이 올바르지 않음  \n",
    "        - type()을 이용해서 데이터 타입 확인가능  \n",
    "        - isinstance(변수, type) : 변수가 type과 동일한지 확인\n",
    "    * name error : 정의되지 않은 변수를 참조하려고 하는 경우\n",
    "    * zeroDivisionError : 0으로 나누는 경우  \n",
    "\n",
    "- Logical error: 알고리즘 자체가 오류 - 올바르지 않은 결과 도출 (error 사인이 나오진 않음)"
   ]
  },
  {
   "cell_type": "markdown",
   "metadata": {},
   "source": [
    "### Python 디버깅 도구\n",
    "\n",
    "- %debug    사용\n",
    "- 상단에 ipdb바가 뜸  \n",
    "   거기서 debuging 가능"
   ]
  },
  {
   "cell_type": "code",
   "execution_count": 9,
   "metadata": {},
   "outputs": [],
   "source": [
    "def my_adder(a,b,c):\n",
    "    #type check\n",
    "    if isinstance(a, float) and isinstance(b, float) and isinstance(c, float):\n",
    "        pass\n",
    "    else:\n",
    "        raise(TypeError(\"inputs must be floats\"))\n",
    "\n",
    "    out = a + b + c\n",
    "    return out"
   ]
  },
  {
   "cell_type": "code",
   "execution_count": 10,
   "metadata": {},
   "outputs": [],
   "source": [
    "def square_number(x):\n",
    "    sq = x ** 2\n",
    "    sq += x\n",
    "    return sq"
   ]
  },
  {
   "cell_type": "code",
   "execution_count": 17,
   "metadata": {},
   "outputs": [
    {
     "ename": "TypeError",
     "evalue": "unsupported operand type(s) for ** or pow(): 'str' and 'int'",
     "output_type": "error",
     "traceback": [
      "\u001b[0;31m---------------------------------------------------------------------------\u001b[0m",
      "\u001b[0;31mTypeError\u001b[0m                                 Traceback (most recent call last)",
      "\u001b[0;32m/var/folders/d5/9q668tsd4bv5vpp3xf9y2_b40000gn/T/ipykernel_63382/3473278975.py\u001b[0m in \u001b[0;36m<module>\u001b[0;34m\u001b[0m\n\u001b[0;32m----> 1\u001b[0;31m \u001b[0msquare_number\u001b[0m\u001b[0;34m(\u001b[0m\u001b[0;34m\"10\"\u001b[0m\u001b[0;34m)\u001b[0m\u001b[0;34m\u001b[0m\u001b[0;34m\u001b[0m\u001b[0m\n\u001b[0m",
      "\u001b[0;32m/var/folders/d5/9q668tsd4bv5vpp3xf9y2_b40000gn/T/ipykernel_63382/2702622883.py\u001b[0m in \u001b[0;36msquare_number\u001b[0;34m(x)\u001b[0m\n\u001b[1;32m      1\u001b[0m \u001b[0;32mdef\u001b[0m \u001b[0msquare_number\u001b[0m\u001b[0;34m(\u001b[0m\u001b[0mx\u001b[0m\u001b[0;34m)\u001b[0m\u001b[0;34m:\u001b[0m\u001b[0;34m\u001b[0m\u001b[0;34m\u001b[0m\u001b[0m\n\u001b[0;32m----> 2\u001b[0;31m     \u001b[0msq\u001b[0m \u001b[0;34m=\u001b[0m \u001b[0mx\u001b[0m \u001b[0;34m**\u001b[0m \u001b[0;36m2\u001b[0m\u001b[0;34m\u001b[0m\u001b[0;34m\u001b[0m\u001b[0m\n\u001b[0m\u001b[1;32m      3\u001b[0m     \u001b[0msq\u001b[0m \u001b[0;34m+=\u001b[0m \u001b[0mx\u001b[0m\u001b[0;34m\u001b[0m\u001b[0;34m\u001b[0m\u001b[0m\n\u001b[1;32m      4\u001b[0m     \u001b[0;32mreturn\u001b[0m \u001b[0msq\u001b[0m\u001b[0;34m\u001b[0m\u001b[0;34m\u001b[0m\u001b[0m\n",
      "\u001b[0;31mTypeError\u001b[0m: unsupported operand type(s) for ** or pow(): 'str' and 'int'"
     ]
    }
   ],
   "source": [
    "square_number(\"10\")"
   ]
  },
  {
   "cell_type": "code",
   "execution_count": 24,
   "metadata": {},
   "outputs": [
    {
     "name": "stdout",
     "output_type": "stream",
     "text": [
      "> \u001b[0;32m/var/folders/d5/9q668tsd4bv5vpp3xf9y2_b40000gn/T/ipykernel_63382/2702622883.py\u001b[0m(2)\u001b[0;36msquare_number\u001b[0;34m()\u001b[0m\n",
      "\u001b[0;32m      1 \u001b[0;31m\u001b[0;32mdef\u001b[0m \u001b[0msquare_number\u001b[0m\u001b[0;34m(\u001b[0m\u001b[0mx\u001b[0m\u001b[0;34m)\u001b[0m\u001b[0;34m:\u001b[0m\u001b[0;34m\u001b[0m\u001b[0;34m\u001b[0m\u001b[0m\n",
      "\u001b[0m\u001b[0;32m----> 2 \u001b[0;31m    \u001b[0msq\u001b[0m \u001b[0;34m=\u001b[0m \u001b[0mx\u001b[0m \u001b[0;34m**\u001b[0m \u001b[0;36m2\u001b[0m\u001b[0;34m\u001b[0m\u001b[0;34m\u001b[0m\u001b[0m\n",
      "\u001b[0m\u001b[0;32m      3 \u001b[0;31m    \u001b[0msq\u001b[0m \u001b[0;34m+=\u001b[0m \u001b[0mx\u001b[0m\u001b[0;34m\u001b[0m\u001b[0;34m\u001b[0m\u001b[0m\n",
      "\u001b[0m\u001b[0;32m      4 \u001b[0;31m    \u001b[0;32mreturn\u001b[0m \u001b[0msq\u001b[0m\u001b[0;34m\u001b[0m\u001b[0;34m\u001b[0m\u001b[0m\n",
      "\u001b[0m\n"
     ]
    }
   ],
   "source": [
    "%debug\n",
    "# p: print 뜻인가?\n",
    "# p x --> print(x)"
   ]
  },
  {
   "cell_type": "code",
   "execution_count": 19,
   "metadata": {},
   "outputs": [
    {
     "name": "stdout",
     "output_type": "stream",
     "text": [
      "Automatic pdb calling has been turned ON\n"
     ]
    }
   ],
   "source": [
    "# 항상 debug 모드로 만들 수 있음\n",
    "%pdb on"
   ]
  },
  {
   "cell_type": "code",
   "execution_count": 20,
   "metadata": {},
   "outputs": [
    {
     "ename": "TypeError",
     "evalue": "unsupported operand type(s) for ** or pow(): 'str' and 'int'",
     "output_type": "error",
     "traceback": [
      "\u001b[0;31m---------------------------------------------------------------------------\u001b[0m",
      "\u001b[0;31mTypeError\u001b[0m                                 Traceback (most recent call last)",
      "\u001b[0;32m/var/folders/d5/9q668tsd4bv5vpp3xf9y2_b40000gn/T/ipykernel_63382/3473278975.py\u001b[0m in \u001b[0;36m<module>\u001b[0;34m\u001b[0m\n\u001b[0;32m----> 1\u001b[0;31m \u001b[0msquare_number\u001b[0m\u001b[0;34m(\u001b[0m\u001b[0;34m\"10\"\u001b[0m\u001b[0;34m)\u001b[0m\u001b[0;34m\u001b[0m\u001b[0;34m\u001b[0m\u001b[0m\n\u001b[0m",
      "\u001b[0;32m/var/folders/d5/9q668tsd4bv5vpp3xf9y2_b40000gn/T/ipykernel_63382/2702622883.py\u001b[0m in \u001b[0;36msquare_number\u001b[0;34m(x)\u001b[0m\n\u001b[1;32m      1\u001b[0m \u001b[0;32mdef\u001b[0m \u001b[0msquare_number\u001b[0m\u001b[0;34m(\u001b[0m\u001b[0mx\u001b[0m\u001b[0;34m)\u001b[0m\u001b[0;34m:\u001b[0m\u001b[0;34m\u001b[0m\u001b[0;34m\u001b[0m\u001b[0m\n\u001b[0;32m----> 2\u001b[0;31m     \u001b[0msq\u001b[0m \u001b[0;34m=\u001b[0m \u001b[0mx\u001b[0m \u001b[0;34m**\u001b[0m \u001b[0;36m2\u001b[0m\u001b[0;34m\u001b[0m\u001b[0;34m\u001b[0m\u001b[0m\n\u001b[0m\u001b[1;32m      3\u001b[0m     \u001b[0msq\u001b[0m \u001b[0;34m+=\u001b[0m \u001b[0mx\u001b[0m\u001b[0;34m\u001b[0m\u001b[0;34m\u001b[0m\u001b[0m\n\u001b[1;32m      4\u001b[0m     \u001b[0;32mreturn\u001b[0m \u001b[0msq\u001b[0m\u001b[0;34m\u001b[0m\u001b[0;34m\u001b[0m\u001b[0m\n",
      "\u001b[0;31mTypeError\u001b[0m: unsupported operand type(s) for ** or pow(): 'str' and 'int'"
     ]
    },
    {
     "name": "stdout",
     "output_type": "stream",
     "text": [
      "> \u001b[0;32m/var/folders/d5/9q668tsd4bv5vpp3xf9y2_b40000gn/T/ipykernel_63382/2702622883.py\u001b[0m(2)\u001b[0;36msquare_number\u001b[0;34m()\u001b[0m\n",
      "\u001b[0;32m      1 \u001b[0;31m\u001b[0;32mdef\u001b[0m \u001b[0msquare_number\u001b[0m\u001b[0;34m(\u001b[0m\u001b[0mx\u001b[0m\u001b[0;34m)\u001b[0m\u001b[0;34m:\u001b[0m\u001b[0;34m\u001b[0m\u001b[0;34m\u001b[0m\u001b[0m\n",
      "\u001b[0m\u001b[0;32m----> 2 \u001b[0;31m    \u001b[0msq\u001b[0m \u001b[0;34m=\u001b[0m \u001b[0mx\u001b[0m \u001b[0;34m**\u001b[0m \u001b[0;36m2\u001b[0m\u001b[0;34m\u001b[0m\u001b[0;34m\u001b[0m\u001b[0m\n",
      "\u001b[0m\u001b[0;32m      3 \u001b[0;31m    \u001b[0msq\u001b[0m \u001b[0;34m+=\u001b[0m \u001b[0mx\u001b[0m\u001b[0;34m\u001b[0m\u001b[0;34m\u001b[0m\u001b[0m\n",
      "\u001b[0m\u001b[0;32m      4 \u001b[0;31m    \u001b[0;32mreturn\u001b[0m \u001b[0msq\u001b[0m\u001b[0;34m\u001b[0m\u001b[0;34m\u001b[0m\u001b[0m\n",
      "\u001b[0m\n"
     ]
    }
   ],
   "source": [
    "square_number(\"10\")"
   ]
  },
  {
   "cell_type": "code",
   "execution_count": 21,
   "metadata": {},
   "outputs": [
    {
     "name": "stdout",
     "output_type": "stream",
     "text": [
      "Automatic pdb calling has been turned OFF\n"
     ]
    }
   ],
   "source": [
    "%pdb off"
   ]
  },
  {
   "cell_type": "code",
   "execution_count": 22,
   "metadata": {},
   "outputs": [],
   "source": [
    "# 중단점 설정 : pdb.set_trace()\n",
    "import pdb\n",
    "\n",
    "def square_number(x):\n",
    "    sq = x ** 2\n",
    "\n",
    "    pdb.set_trace() \n",
    "\n",
    "    sq += x\n",
    "    return sq"
   ]
  },
  {
   "cell_type": "code",
   "execution_count": 23,
   "metadata": {},
   "outputs": [
    {
     "name": "stdout",
     "output_type": "stream",
     "text": [
      "> \u001b[0;32m/var/folders/d5/9q668tsd4bv5vpp3xf9y2_b40000gn/T/ipykernel_63382/4071365222.py\u001b[0m(9)\u001b[0;36msquare_number\u001b[0;34m()\u001b[0m\n",
      "\u001b[0;32m      6 \u001b[0;31m\u001b[0;34m\u001b[0m\u001b[0m\n",
      "\u001b[0m\u001b[0;32m      7 \u001b[0;31m    \u001b[0mpdb\u001b[0m\u001b[0;34m.\u001b[0m\u001b[0mset_trace\u001b[0m\u001b[0;34m(\u001b[0m\u001b[0;34m)\u001b[0m\u001b[0;34m\u001b[0m\u001b[0;34m\u001b[0m\u001b[0m\n",
      "\u001b[0m\u001b[0;32m      8 \u001b[0;31m\u001b[0;34m\u001b[0m\u001b[0m\n",
      "\u001b[0m\u001b[0;32m----> 9 \u001b[0;31m    \u001b[0msq\u001b[0m \u001b[0;34m+=\u001b[0m \u001b[0mx\u001b[0m\u001b[0;34m\u001b[0m\u001b[0;34m\u001b[0m\u001b[0m\n",
      "\u001b[0m\u001b[0;32m     10 \u001b[0;31m    \u001b[0;32mreturn\u001b[0m \u001b[0msq\u001b[0m\u001b[0;34m\u001b[0m\u001b[0;34m\u001b[0m\u001b[0m\n",
      "\u001b[0m\n",
      "3\n",
      "9\n",
      "9\n"
     ]
    },
    {
     "data": {
      "text/plain": [
       "12"
      ]
     },
     "execution_count": 23,
     "metadata": {},
     "output_type": "execute_result"
    }
   ],
   "source": [
    "square_number(3)"
   ]
  },
  {
   "cell_type": "code",
   "execution_count": 25,
   "metadata": {},
   "outputs": [],
   "source": [
    "f = lambda x : x ** 3 - 3 * x + 1\n",
    "g = lambda x : x ** 3 - 2 * np.sin(x)"
   ]
  },
  {
   "cell_type": "code",
   "execution_count": 32,
   "metadata": {},
   "outputs": [],
   "source": [
    "import numpy as np\n",
    "\n",
    "def Bisection(f,a,b,nmax,tol):\n",
    "    \"\"\" approximates a root, c, of f bounded\n",
    "        by a and b to within tolerance\n",
    "        |f(m)| < tol with m being the midpoint\n",
    "        between a and b, Recursive implementation \"\"\"\n",
    "    \n",
    "    fa = f(a)\n",
    "    fb = f(b)\n",
    "\n",
    "    if np.sign(fa) == np.sign(fb):\n",
    "        print('a = %0.1f b= %0.1f f(a) = %1.2e f(b) = %1.2e' % (a, b, fa, fb))\n",
    "        print('funcion has same signs at a and b')\n",
    "        return\n",
    "    \n",
    "    error = b - a\n",
    "\n",
    "    for n in range(0, nmax):\n",
    "        error = error/2\n",
    "        c = a + error\n",
    "        fc = f(c)\n",
    "\n",
    "        print('n = %02d c = % 0.7f f(c) = % 1.2e error = % 1.2e' % (n, c, fc, error))\n",
    "\n",
    "        if np.abs(error) < tol:\n",
    "            print('convergence')\n",
    "            return c\n",
    "        if np.sign(fa) != np.sign(fc):\n",
    "            b = c\n",
    "            fb = fc\n",
    "        else:\n",
    "            a = c\n",
    "            fa = fc"
   ]
  },
  {
   "cell_type": "code",
   "execution_count": 33,
   "metadata": {},
   "outputs": [
    {
     "name": "stdout",
     "output_type": "stream",
     "text": [
      "n = 00 c =  0.5000000 f(c) = -3.75e-01 error =  5.00e-01\n",
      "n = 01 c =  0.2500000 f(c) =  2.66e-01 error =  2.50e-01\n",
      "n = 02 c =  0.3750000 f(c) = -7.23e-02 error =  1.25e-01\n",
      "n = 03 c =  0.3125000 f(c) =  9.30e-02 error =  6.25e-02\n",
      "n = 04 c =  0.3437500 f(c) =  9.37e-03 error =  3.12e-02\n",
      "n = 05 c =  0.3593750 f(c) = -3.17e-02 error =  1.56e-02\n",
      "n = 06 c =  0.3515625 f(c) = -1.12e-02 error =  7.81e-03\n",
      "n = 07 c =  0.3476562 f(c) = -9.49e-04 error =  3.91e-03\n",
      "n = 08 c =  0.3457031 f(c) =  4.21e-03 error =  1.95e-03\n",
      "n = 09 c =  0.3466797 f(c) =  1.63e-03 error =  9.77e-04\n",
      "n = 10 c =  0.3471680 f(c) =  3.39e-04 error =  4.88e-04\n",
      "n = 11 c =  0.3474121 f(c) = -3.05e-04 error =  2.44e-04\n",
      "n = 12 c =  0.3472900 f(c) =  1.67e-05 error =  1.22e-04\n",
      "n = 13 c =  0.3473511 f(c) = -1.44e-04 error =  6.10e-05\n",
      "n = 14 c =  0.3473206 f(c) = -6.38e-05 error =  3.05e-05\n",
      "n = 15 c =  0.3473053 f(c) = -2.36e-05 error =  1.53e-05\n",
      "n = 16 c =  0.3472977 f(c) = -3.46e-06 error =  7.63e-06\n",
      "n = 17 c =  0.3472939 f(c) =  6.60e-06 error =  3.81e-06\n",
      "n = 18 c =  0.3472958 f(c) =  1.57e-06 error =  1.91e-06\n",
      "n = 19 c =  0.3472967 f(c) = -9.48e-07 error =  9.54e-07\n",
      "n = 20 c =  0.3472962 f(c) =  3.10e-07 error =  4.77e-07\n",
      "convergence\n",
      "root of functino f = 0.34729623794555664 \n",
      "\n"
     ]
    }
   ],
   "source": [
    "nmax = 24\n",
    "tol = 1e-6/2.0\n",
    "\n",
    "a = 0.0\n",
    "b = 1.0\n",
    "Rt_f = Bisection(f, a, b, nmax, tol)\n",
    "print('root of functino f =', Rt_f, '\\n')"
   ]
  },
  {
   "cell_type": "code",
   "execution_count": 34,
   "metadata": {},
   "outputs": [
    {
     "name": "stdout",
     "output_type": "stream",
     "text": [
      "n = 00 c =  1.2500000 f(c) =  5.52e-02 error =  7.50e-01\n",
      "n = 01 c =  0.8750000 f(c) = -8.65e-01 error =  3.75e-01\n",
      "n = 02 c =  1.0625000 f(c) = -5.48e-01 error =  1.88e-01\n",
      "n = 03 c =  1.1562500 f(c) = -2.85e-01 error =  9.38e-02\n",
      "n = 04 c =  1.2031250 f(c) = -1.25e-01 error =  4.69e-02\n",
      "n = 05 c =  1.2265625 f(c) = -3.74e-02 error =  2.34e-02\n",
      "n = 06 c =  1.2382812 f(c) =  8.26e-03 error =  1.17e-02\n",
      "n = 07 c =  1.2324219 f(c) = -1.47e-02 error =  5.86e-03\n",
      "n = 08 c =  1.2353516 f(c) = -3.27e-03 error =  2.93e-03\n",
      "n = 09 c =  1.2368164 f(c) =  2.49e-03 error =  1.46e-03\n",
      "n = 10 c =  1.2360840 f(c) = -3.92e-04 error =  7.32e-04\n",
      "n = 11 c =  1.2364502 f(c) =  1.05e-03 error =  3.66e-04\n",
      "n = 12 c =  1.2362671 f(c) =  3.27e-04 error =  1.83e-04\n",
      "n = 13 c =  1.2361755 f(c) = -3.30e-05 error =  9.16e-05\n",
      "n = 14 c =  1.2362213 f(c) =  1.47e-04 error =  4.58e-05\n",
      "n = 15 c =  1.2361984 f(c) =  5.69e-05 error =  2.29e-05\n",
      "n = 16 c =  1.2361870 f(c) =  1.20e-05 error =  1.14e-05\n",
      "n = 17 c =  1.2361813 f(c) = -1.05e-05 error =  5.72e-06\n",
      "n = 18 c =  1.2361841 f(c) =  7.54e-07 error =  2.86e-06\n",
      "n = 19 c =  1.2361827 f(c) = -4.86e-06 error =  1.43e-06\n",
      "n = 20 c =  1.2361834 f(c) = -2.05e-06 error =  7.15e-07\n",
      "n = 21 c =  1.2361838 f(c) = -6.50e-07 error =  3.58e-07\n",
      "convergence\n",
      "root of functino g = 1.236183762550354 \n",
      "\n"
     ]
    }
   ],
   "source": [
    "a = 0.5\n",
    "b = 2.0\n",
    "Rt_g = Bisection(g, a, b, nmax, tol)\n",
    "print('root of functino g =', Rt_g, '\\n')"
   ]
  },
  {
   "cell_type": "code",
   "execution_count": 35,
   "metadata": {},
   "outputs": [],
   "source": [
    "def Newton(f, df, x, nmax, tol, delt):\n",
    "    \"\"\" output is an estimation of the root of f\n",
    "        using the Newton-Raphson method\n",
    "        recursive impelmentation \n",
    "        df : derivative of f\n",
    "        delt : ?\"\"\"\n",
    "    \n",
    "    fx = f(x)\n",
    "    print('%-4s %-20s %4s' %('n', 'x(n)', 'f(x(n))'))\n",
    "    print('%-3d % 1.10e %2s % 1.3e' % (0, x, '', fx))\n",
    "\n",
    "    for n in range(1, nmax + 1):\n",
    "        fp = df(x)\n",
    "\n",
    "        if np.abs(fp) < delt:\n",
    "            print('small derivative')\n",
    "            return\n",
    "\n",
    "        d = fx/fp\n",
    "        x = x - d\n",
    "        fx = f(x)\n",
    "\n",
    "        print('%-3d % 1.10e %2s % 1.3e' %(n, x, '', fx))\n",
    "\n",
    "        if np.abs(d) < tol:\n",
    "            print('convergence')\n",
    "            return x"
   ]
  },
  {
   "cell_type": "code",
   "execution_count": 53,
   "metadata": {},
   "outputs": [],
   "source": [
    "f = lambda x : x ** 3 - 2 * x + 2\n",
    "df = lambda x : 3 * x **2 - 2"
   ]
  },
  {
   "cell_type": "code",
   "execution_count": 38,
   "metadata": {},
   "outputs": [
    {
     "name": "stdout",
     "output_type": "stream",
     "text": [
      "n    x(n)                 f(x(n))\n",
      "0   -1.5000000000e+00     1.625e+00\n",
      "1   -1.8421052632e+00    -5.667e-01\n",
      "2   -1.7728269200e+00    -2.619e-02\n",
      "3   -1.7693012926e+00    -6.607e-05\n",
      "4   -1.7692923543e+00    -4.241e-10\n",
      "5   -1.7692923542e+00     0.000e+00\n",
      "6   -1.7692923542e+00     0.000e+00\n",
      "convergence\n",
      "root of fucntion f =  -1.7692923542386314\n"
     ]
    }
   ],
   "source": [
    "nmax = 100\n",
    "tol = 1e-12\n",
    "\n",
    "x0 = -1.5\n",
    "\n",
    "Rt_f = Newton(f, df, x0, nmax, tol, 1e-12)\n",
    "print('root of fucntion f = ',Rt_f)"
   ]
  },
  {
   "cell_type": "code",
   "execution_count": 54,
   "metadata": {},
   "outputs": [
    {
     "data": {
      "text/plain": [
       "[<matplotlib.lines.Line2D at 0x7f995a012fd0>]"
      ]
     },
     "execution_count": 54,
     "metadata": {},
     "output_type": "execute_result"
    },
    {
     "data": {
      "image/png": "[encoded data removed]",
      "text/plain": [
       "<Figure size 640x480 with 1 Axes>"
      ]
     },
     "metadata": {},
     "output_type": "display_data"
    }
   ],
   "source": [
    "import matplotlib.pyplot as plt\n",
    "xx = np.arange(-2,2,0.1)\n",
    "yy = f(xx)\n",
    "\n",
    "plt.plot(xx, yy)"
   ]
  },
  {
   "cell_type": "code",
   "execution_count": 58,
   "metadata": {},
   "outputs": [],
   "source": [
    "f = lambda x : x ** 3 - 3 * x ** 2 - 1\n",
    "df = lambda x : 3*x**2 - 6*x"
   ]
  },
  {
   "cell_type": "code",
   "execution_count": 56,
   "metadata": {},
   "outputs": [
    {
     "name": "stdout",
     "output_type": "stream",
     "text": [
      "n    x(n)                 f(x(n))\n",
      "0    1.0000000000e+00    -3.000e+00\n",
      "1    0.0000000000e+00    -1.000e+00\n",
      "small derivative\n",
      "root of fucntion f =  None\n"
     ]
    }
   ],
   "source": [
    "nmax = 100\n",
    "tol = 1e-12\n",
    "\n",
    "x0 = 1\n",
    "\n",
    "Rt_f = Newton(f, df, x0, nmax, tol, 1e-12)\n",
    "print('root of fucntion f = ',Rt_f)"
   ]
  },
  {
   "cell_type": "code",
   "execution_count": 60,
   "metadata": {},
   "outputs": [
    {
     "data": {
      "text/plain": [
       "[<matplotlib.lines.Line2D at 0x7f995a088b50>]"
      ]
     },
     "execution_count": 60,
     "metadata": {},
     "output_type": "execute_result"
    },
    {
     "data": {
      "image/png": "[encoded data removed]",
      "text/plain": [
       "<Figure size 640x480 with 1 Axes>"
      ]
     },
     "metadata": {},
     "output_type": "display_data"
    }
   ],
   "source": [
    "xx = np.arange(-1,4,0.1)\n",
    "yy = f(xx)\n",
    "\n",
    "plt.plot(xx, yy)"
   ]
  }
 ],
 "metadata": {
  "kernelspec": {
   "display_name": "Python 3.7.16 ('cse5023')",
   "language": "python",
   "name": "python3"
  },
  "language_info": {
   "codemirror_mode": {
    "name": "ipython",
    "version": 3
   },
   "file_extension": ".py",
   "mimetype": "text/x-python",
   "name": "python",
   "nbconvert_exporter": "python",
   "pygments_lexer": "ipython3",
   "version": "3.7.16"
  },
  "orig_nbformat": 4,
  "vscode": {
   "interpreter": {
    "hash": "602de0c73c109094cedfda7c35ab100a68af9d3b7e04fed29a0604263ee7b924"
   }
  }
 },
 "nbformat": 4,
 "nbformat_minor": 2
}
