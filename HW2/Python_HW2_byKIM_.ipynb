{
 "cells": [
  {
   "cell_type": "code",
   "execution_count": 1,
   "metadata": {},
   "outputs": [],
   "source": [
    "import numpy as np\n",
    "import matplotlib as plt"
   ]
  },
  {
   "cell_type": "markdown",
   "metadata": {},
   "source": [
    "#### 둘다 솔루션이 안나옴..?"
   ]
  },
  {
   "cell_type": "code",
   "execution_count": 7,
   "metadata": {},
   "outputs": [],
   "source": [
    "def F(X):\n",
    "    x = X[0]\n",
    "    y = X[1]\n",
    "    z = X[2]\n",
    "    F1 = (x**2) + x*y*z + (y**2)*(x**3) - 3\n",
    "    F2 = x*(y**2) - y*(z**2) - 2*(x**2)\n",
    "    F3 = (x**2)*y + (y**2)*z + z**4 - 4\n",
    "    return np.array([F1, F2, F3])"
   ]
  },
  {
   "cell_type": "code",
   "execution_count": 8,
   "metadata": {},
   "outputs": [],
   "source": [
    "def J(X):\n",
    "    x = X[0]\n",
    "    y = X[1]\n",
    "    z = X[2]\n",
    "    J11 = 2*x + y*z\n",
    "    J12 = x*z + 2*y*(z**3)\n",
    "    J13 = x*y + 3*(y**2)*(z**2)\n",
    "    J21 = y**2 - 4*x\n",
    "    J22 = 2*x*y - z**2\n",
    "    J23 = -2*z\n",
    "    J31 = 2*x*y\n",
    "    J32 = x**2 + 2*y*z \n",
    "    J33 = y**2 + 4*z\n",
    "    return np.array([[J11, J12, J13],[J21, J22, J23],[J31, J32, J33]])"
   ]
  },
  {
   "cell_type": "code",
   "execution_count": 50,
   "metadata": {},
   "outputs": [],
   "source": [
    "def newton(f, Jf, init, tol):\n",
    "    \"\"\" Newton method for sysytems\n",
    "        f : fucntion\n",
    "        Jf : Jacobian of F\n",
    "        init : initial\n",
    "        tol : stop criterion \"\"\"\n",
    "    Xold = init \n",
    "    for iter in range (0,100):\n",
    "        print('iter = %02d  X = (%0.4f, %0.4f, %0.4f)' %(iter, Xold[0], Xold[1], Xold[2]))\n",
    "        J = Jf(Xold)\n",
    "        F = f(Xold)\n",
    "\n",
    "        s = -np.dot(np.linalg.inv(J),F)\n",
    "\n",
    "        Xnew = Xold+s\n",
    "        \n",
    "        if np.linalg.norm(s) < tol:\n",
    "            break\n",
    "        if f'{Xnew[0]}' == f'{np.NaN}':\n",
    "            print('=======================================')\n",
    "            print('This initial can not find the solution')\n",
    "            break\n",
    "        Xold = Xnew"
   ]
  },
  {
   "cell_type": "code",
   "execution_count": 54,
   "metadata": {},
   "outputs": [],
   "source": [
    "X1 = [1, 2, 3]\n",
    "X2 = [-1, 1, 1]\n",
    "tol = 1e-6\n"
   ]
  },
  {
   "cell_type": "code",
   "execution_count": 55,
   "metadata": {},
   "outputs": [
    {
     "name": "stdout",
     "output_type": "stream",
     "text": [
      "\n",
      " Case1) initial = (1, 2, 3)\n",
      "iter = 00  X = (1.0000, 2.0000, 3.0000)\n",
      "iter = 01  X = (-9.4917, 21.1000, -15.5833)\n",
      "iter = 02  X = (77.3941, 72.8325, 11.1378)\n",
      "iter = 03  X = (866.6873, -318.1097, -1191.4817)\n",
      "iter = 04  X = (4124674.0141, 203803.5293, -511040.3565)\n",
      "iter = 05  X = (-57411746736.8322, 1678802071.0511, 2715997464.2905)\n",
      "iter = 06  X = (372029284353810368.0000, 5238860526768684.0000, -5641795551687162.0000)\n",
      "iter = 07  X = (-347468910166525545853321478144.0000, 2466644264715897168168222720.0000, 1770906520816620836313104384.0000)\n",
      "iter = 08  X = (7645598643523207699371884764331293002442926758821888.0000, 27088081127997012853314118001052313260415214682112.0000, -12965106803109732327385185380019926263238932561920.0000)\n",
      "iter = 09  X = (-90966401353416853534470184293909447534655741894165013687640230849609348122040467724948167720960.0000, 161210767242058855285922263586151223703544877706654331032042609583544675113420605977192824832.0000, 51439962474721257859259898789395812837212545015225950605973812618611118319451550637086474240.0000)\n",
      "=======================================\n",
      "This initial can not find the solution\n",
      "\n",
      " Case2) initial = (-1, 1, 1)\n",
      "iter = 00  X = (-1.0000, 1.0000, 1.0000)\n",
      "iter = 01  X = (-5.6667, -12.3333, 7.3333)\n",
      "iter = 02  X = (-17.1697, 16.2141, 19.7206)\n",
      "iter = 03  X = (467.4135, 179.4076, -108.6353)\n",
      "iter = 04  X = (-60.2460, 205.9041, -2982.0277)\n",
      "iter = 05  X = (2700102655.3496, 12994274.9085, 125457127.5749)\n",
      "iter = 06  X = (-5209821483262518.0000, 16160069416679.7148, -104431515307038.8594)\n",
      "iter = 07  X = (923081644413248352869679104.0000, 1344544270207635263848448.0000, 5792586515814765861797888.0000)\n",
      "iter = 08  X = (-607538305024323199727831468645002898957123190784.0000, 448527755430345966371687537189942581144846336.0000, -1288236163307723241463818882873325501315809280.0000)\n",
      "iter = 09  X = (6731132484650499175694954465266070595068118397709302086153823841181757410695817841344512.0000, 2477155962391700341502740976719298089453539182980530955057501697561997070295027941376.0000, 4743165247145864128649841023524064577150082314117909465472208343347817289739124342784.0000)\n",
      "=======================================\n",
      "This initial can not find the solution\n"
     ]
    },
    {
     "name": "stderr",
     "output_type": "stream",
     "text": [
      "/var/folders/d5/9q668tsd4bv5vpp3xf9y2_b40000gn/T/ipykernel_62384/3400934383.py:6: RuntimeWarning: overflow encountered in double_scalars\n",
      "  J12 = x*z + 2*y*(z**3)\n",
      "/var/folders/d5/9q668tsd4bv5vpp3xf9y2_b40000gn/T/ipykernel_62384/3400934383.py:7: RuntimeWarning: overflow encountered in double_scalars\n",
      "  J13 = x*y + 3*(y**2)*(z**2)\n",
      "/var/folders/d5/9q668tsd4bv5vpp3xf9y2_b40000gn/T/ipykernel_62384/1265851908.py:5: RuntimeWarning: overflow encountered in double_scalars\n",
      "  F1 = (x**2) + x*y*z + (y**2)*(x**3) - 3\n"
     ]
    }
   ],
   "source": [
    "print('\\n Case1) initial = (1, 2, 3)')\n",
    "newton(F, J, X1, tol)\n",
    "\n",
    "print('\\n Case2) initial = (-1, 1, 1)')\n",
    "newton(F, J, X2, tol)"
   ]
  }
 ],
 "metadata": {
  "kernelspec": {
   "display_name": "Python 3.10.8 ('epi')",
   "language": "python",
   "name": "python3"
  },
  "language_info": {
   "codemirror_mode": {
    "name": "ipython",
    "version": 3
   },
   "file_extension": ".py",
   "mimetype": "text/x-python",
   "name": "python",
   "nbconvert_exporter": "python",
   "pygments_lexer": "ipython3",
   "version": "3.10.8"
  },
  "orig_nbformat": 4,
  "vscode": {
   "interpreter": {
    "hash": "2c9536bba0972c0ce9f364af87873760aac530bfb0bd7aa5f58a221fe4207ade"
   }
  }
 },
 "nbformat": 4,
 "nbformat_minor": 2
}
