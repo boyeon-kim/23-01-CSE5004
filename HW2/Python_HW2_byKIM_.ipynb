{
 "cells": [
  {
   "cell_type": "code",
   "execution_count": null,
   "metadata": {},
   "outputs": [],
   "source": [
    "import numpy as np\n",
    "import matplotlib as plt\n",
    "import scipy as sc"
   ]
  },
  {
   "cell_type": "markdown",
   "metadata": {},
   "source": [
    "#### 둘다 솔루션이 안나옴..?"
   ]
  },
  {
   "cell_type": "markdown",
   "metadata": {},
   "source": [
    "Consider a non-linear equation system, F(x) = b,\n",
    "$$ \n",
    "F(x) =\n",
    "\\begin{bmatrix}\n",
    "x^2 + xyz + y^2z^3 \\\\\n",
    "xy^2 - yz^2 - 2x^2 \\\\\n",
    "x^2y + y^2z + z^4\n",
    "\\end{bmatrix} ,\n",
    "b =\n",
    "\\begin{bmatrix}\n",
    "3 \\\\\n",
    "0 \\\\\n",
    "4\n",
    "\\end{bmatrix}\n",
    "$$"
   ]
  },
  {
   "cell_type": "markdown",
   "metadata": {},
   "source": [
    "#### 1. Using Newton’s method, find a root of the system $F(x) = b$ when an initial guess is $(x0,y0,z0) = (1, 2, 3)$ or $(−1, 1, 1)$ (with line-by-line code and using the NumPy library).\n",
    "\n",
    "Let $f(x) : F(x) - b = 0$\n",
    "$$ \n",
    "f(x) =\n",
    "\\begin{bmatrix}\n",
    "x^2 + xyz + y^2z^3 - 3 \\\\\n",
    "xy^2 - yz^2 - 2x^2 \\\\\n",
    "x^2y + y^2z + z^4 - 4\n",
    "\\end{bmatrix}\n",
    "= \n",
    "\\begin{bmatrix}\n",
    "0 \\\\\n",
    "0 \\\\\n",
    "0\n",
    "\\end{bmatrix}\n",
    "$$"
   ]
  },
  {
   "cell_type": "code",
   "execution_count": null,
   "metadata": {},
   "outputs": [],
   "source": [
    "def f(X):\n",
    "    x = X[0]\n",
    "    y = X[1]\n",
    "    z = X[2]\n",
    "    F1 = (x**2) + x*y*z + (y**2)*(x**3) - 3\n",
    "    F2 = x*(y**2) - y*(z**2) - 2*(x**2)\n",
    "    F3 = (x**2)*y + (y**2)*z + z**4 - 4\n",
    "    return np.array([F1, F2, F3])"
   ]
  },
  {
   "cell_type": "markdown",
   "metadata": {},
   "source": [
    "Let $X = [x, y, z],  J : \\frac{\\partial{F}}{\\partial{X}}$\n",
    "$$ \n",
    "J(X) =\n",
    "\\begin{bmatrix}\n",
    "2x + yz & xz+2yz^3 & xy+3y^2z^2 \\\\\n",
    "y^2 - 4x & 2xy - z^2 & -2yz \\\\\n",
    "2xy & x^2 + 2yz & y^2 + 4z^3\n",
    "\\end{bmatrix}\n",
    "$$"
   ]
  },
  {
   "cell_type": "code",
   "execution_count": null,
   "metadata": {},
   "outputs": [],
   "source": [
    "def Jf(X):\n",
    "    x = X[0]\n",
    "    y = X[1]\n",
    "    z = X[2]\n",
    "    J11 = 2*x + y*z\n",
    "    J12 = x*z + 2*y*(z**3)\n",
    "    J13 = x*y + 3*(y**2)*(z**2)\n",
    "    J21 = (y**2) - 4*x\n",
    "    J22 = 2*x*y - (z**2)\n",
    "    J23 = -2*y*z\n",
    "    J31 = 2*x*y\n",
    "    J32 = (x**2) + 2*y*z \n",
    "    J33 = (y**2) + 4*(z**3)\n",
    "    return np.array([[J11, J12, J13],[J21, J22, J23],[J31, J32, J33]])"
   ]
  },
  {
   "cell_type": "code",
   "execution_count": null,
   "metadata": {},
   "outputs": [],
   "source": [
    "def newton(f, Jf, init, tol):\n",
    "    \"\"\" Newton method for sysytems\n",
    "        f : fucntion\n",
    "        Jf : Jacobian of F\n",
    "        init : initial\n",
    "        tol : stop criterion \"\"\"\n",
    "    Xold = init \n",
    "    for iter in range (0,100):\n",
    "        print('iter = %02d  X = (%0.4f, %0.4f, %0.4f)' %(iter, Xold[0], Xold[1], Xold[2]))\n",
    "        J = Jf(Xold)\n",
    "        F = f(Xold)\n",
    "        \n",
    "        H = np.dot(np.linalg.inv(J),F)\n",
    "\n",
    "        Xnew = Xold - H\n",
    "        \n",
    "        if np.linalg.norm(H) < tol:\n",
    "            break\n",
    "\n",
    "        if f'{Xnew[0]}' == f'{np.NaN}':\n",
    "            print('=======================================')\n",
    "            print('This initial can not find the solution')\n",
    "            break\n",
    "        Xold = Xnew\n",
    "    print('The solution is X = (%0.4f, %0.4f, %0.4f)' %(Xold[0], Xold[1], Xold[2]))"
   ]
  },
  {
   "cell_type": "code",
   "execution_count": null,
   "metadata": {},
   "outputs": [],
   "source": [
    "X1 = [1, 2, 3]\n",
    "X2 = [-1, 1, 1]\n",
    "tol = 1e-6\n"
   ]
  },
  {
   "cell_type": "code",
   "execution_count": null,
   "metadata": {},
   "outputs": [],
   "source": [
    "print('\\n Case1) initial = (1, 2, 3)')\n",
    "newton(f, Jf, X1, tol)\n",
    "\n",
    "print('\\n Case2) initial = (-1, 1, 1)')\n",
    "newton(f, Jf, X2, tol)"
   ]
  }
 ],
 "metadata": {
  "kernelspec": {
   "display_name": "Python 3.10.8 ('epi')",
   "language": "python",
   "name": "python3"
  },
  "language_info": {
   "codemirror_mode": {
    "name": "ipython",
    "version": 3
   },
   "file_extension": ".py",
   "mimetype": "text/x-python",
   "name": "python",
   "nbconvert_exporter": "python",
   "pygments_lexer": "ipython3",
   "version": "3.10.8"
  },
  "orig_nbformat": 4,
  "vscode": {
   "interpreter": {
    "hash": "2c9536bba0972c0ce9f364af87873760aac530bfb0bd7aa5f58a221fe4207ade"
   }
  }
 },
 "nbformat": 4,
 "nbformat_minor": 2
}
