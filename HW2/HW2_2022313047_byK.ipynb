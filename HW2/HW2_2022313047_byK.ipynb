{
 "cells": [
  {
   "cell_type": "code",
   "execution_count": 1,
   "metadata": {},
   "outputs": [],
   "source": [
    "import numpy as np"
   ]
  },
  {
   "cell_type": "code",
   "execution_count": 4,
   "metadata": {},
   "outputs": [],
   "source": [
    "import numpy as np\n",
    "\n",
    "def F(x):\n",
    "    return np.array([x[0]**2 + x[0]*x[1]*x[2] + x[1]**2*x[2]**3,\n",
    "                     x[0]*x[1]**2 - x[1]*x[2]**2 - 2*x[0]**2,\n",
    "                     x[0]**2*x[1] + x[1]**2*x[2] + x[2]**4])\n",
    "\n",
    "def J(x):\n",
    "    return np.array([[2*x[0]+x[1]*x[2], x[0]*x[2], x[0]*x[1]*3*x[2]**2],\n",
    "                     [x[1]**2-4*x[0], 2*x[0]*x[1]-2*x[2]**2, -2*x[1]*x[2]],\n",
    "                     [2*x[0]*x[1], x[0]**2+2*x[1]*x[2], 2*x[1]*x[2]**3]])\n",
    "\n",
    "def newton(x0, tol=1e-8, max_iter=10000):\n",
    "    x = np.array(x0)\n",
    "    for i in range(max_iter):\n",
    "        fx = F(x)\n",
    "        if np.linalg.norm(fx) < tol:\n",
    "            return x\n",
    "        Jx = J(x)\n",
    "        if np.linalg.det(Jx) == 0:\n",
    "            raise ValueError(\"Jacobian matrix is singular\")\n",
    "        Jx_inv = np.linalg.inv(Jx)\n",
    "        x = x - Jx_inv @ fx\n",
    "    raise ValueError(\"Failed to converge after {} iterations\".format(max_iter))\n"
   ]
  },
  {
   "cell_type": "code",
   "execution_count": 7,
   "metadata": {},
   "outputs": [
    {
     "ename": "ValueError",
     "evalue": "Failed to converge after 10000 iterations",
     "output_type": "error",
     "traceback": [
      "\u001b[0;31m---------------------------------------------------------------------------\u001b[0m",
      "\u001b[0;31mValueError\u001b[0m                                Traceback (most recent call last)",
      "\u001b[0;32m/var/folders/7v/p182y8s94yz7693vh0hcrz3c0000gn/T/ipykernel_62149/1124796713.py\u001b[0m in \u001b[0;36m<module>\u001b[0;34m\u001b[0m\n\u001b[0;32m----> 1\u001b[0;31m \u001b[0mans\u001b[0m \u001b[0;34m=\u001b[0m \u001b[0mnewton\u001b[0m\u001b[0;34m(\u001b[0m\u001b[0;34m[\u001b[0m\u001b[0;36m1\u001b[0m\u001b[0;34m,\u001b[0m \u001b[0;36m2\u001b[0m\u001b[0;34m,\u001b[0m \u001b[0;36m3\u001b[0m\u001b[0;34m]\u001b[0m\u001b[0;34m)\u001b[0m\u001b[0;34m\u001b[0m\u001b[0;34m\u001b[0m\u001b[0m\n\u001b[0m\u001b[1;32m      2\u001b[0m \u001b[0mprint\u001b[0m\u001b[0;34m(\u001b[0m\u001b[0mans\u001b[0m\u001b[0;34m)\u001b[0m\u001b[0;34m\u001b[0m\u001b[0;34m\u001b[0m\u001b[0m\n\u001b[1;32m      3\u001b[0m \u001b[0mprint\u001b[0m\u001b[0;34m(\u001b[0m\u001b[0mnewton\u001b[0m\u001b[0;34m(\u001b[0m\u001b[0;34m[\u001b[0m\u001b[0;34m-\u001b[0m\u001b[0;36m1\u001b[0m\u001b[0;34m,\u001b[0m \u001b[0;36m1\u001b[0m\u001b[0;34m,\u001b[0m \u001b[0;36m1\u001b[0m\u001b[0;34m]\u001b[0m\u001b[0;34m)\u001b[0m\u001b[0;34m)\u001b[0m\u001b[0;34m\u001b[0m\u001b[0;34m\u001b[0m\u001b[0m\n",
      "\u001b[0;32m/var/folders/7v/p182y8s94yz7693vh0hcrz3c0000gn/T/ipykernel_62149/132416523.py\u001b[0m in \u001b[0;36mnewton\u001b[0;34m(x0, tol, max_iter)\u001b[0m\n\u001b[1;32m     22\u001b[0m         \u001b[0mJx_inv\u001b[0m \u001b[0;34m=\u001b[0m \u001b[0mnp\u001b[0m\u001b[0;34m.\u001b[0m\u001b[0mlinalg\u001b[0m\u001b[0;34m.\u001b[0m\u001b[0minv\u001b[0m\u001b[0;34m(\u001b[0m\u001b[0mJx\u001b[0m\u001b[0;34m)\u001b[0m\u001b[0;34m\u001b[0m\u001b[0;34m\u001b[0m\u001b[0m\n\u001b[1;32m     23\u001b[0m         \u001b[0mx\u001b[0m \u001b[0;34m=\u001b[0m \u001b[0mx\u001b[0m \u001b[0;34m-\u001b[0m \u001b[0mJx_inv\u001b[0m \u001b[0;34m@\u001b[0m \u001b[0mfx\u001b[0m\u001b[0;34m\u001b[0m\u001b[0;34m\u001b[0m\u001b[0m\n\u001b[0;32m---> 24\u001b[0;31m     \u001b[0;32mraise\u001b[0m \u001b[0mValueError\u001b[0m\u001b[0;34m(\u001b[0m\u001b[0;34m\"Failed to converge after {} iterations\"\u001b[0m\u001b[0;34m.\u001b[0m\u001b[0mformat\u001b[0m\u001b[0;34m(\u001b[0m\u001b[0mmax_iter\u001b[0m\u001b[0;34m)\u001b[0m\u001b[0;34m)\u001b[0m\u001b[0;34m\u001b[0m\u001b[0;34m\u001b[0m\u001b[0m\n\u001b[0m",
      "\u001b[0;31mValueError\u001b[0m: Failed to converge after 10000 iterations"
     ]
    }
   ],
   "source": [
    "ans = newton([1, 2, 3])\n",
    "print(ans)\n",
    "print(newton([-1, 1, 1]))"
   ]
  },
  {
   "cell_type": "code",
   "execution_count": null,
   "metadata": {},
   "outputs": [],
   "source": [
    "# Test the Newton's method function for the initial guess (1, 2, 3)\n",
    "x0 = np.array([1, 2, 3])\n",
    "root = newton(F, JF, x0)\n",
    "print(\"The root of the system F(x) = b for the initial guess (1, 2, 3) is\", root)\n",
    "\n",
    "# Test the Newton's method function for the initial guess (-1, 1, 1)\n",
    "x0 = np.array([-1, 1, 1])\n",
    "root = newton(F, JF, x0)\n",
    "print(\"The root of the system F(x) = b for the initial guess (-1, 1, 1) is\", root)"
   ]
  },
  {
   "cell_type": "code",
   "execution_count": null,
   "metadata": {},
   "outputs": [],
   "source": [
    "#ans3 = newton(np.array([0, 0, 1]))\n",
    "print('Jacobian has singular matrix, then there is no inverse matrix')"
   ]
  },
  {
   "cell_type": "code",
   "execution_count": null,
   "metadata": {},
   "outputs": [],
   "source": [
    "from scipy.optimize import broyden2\n",
    "b = np.array([3, 0, 4])\n",
    "\n",
    "# Initial guess x0 = (1, 2, 3)\n",
    "x0 = np.array([1, 2, 3])\n",
    "sol1 = broyden2(F, x0, f_tol=1e-14)\n",
    "print(\"Solution 1:\", sol1)\n",
    "\n",
    "# Initial guess x0 = (-1, 1, 1)\n",
    "x0 = np.array([-1, 1, 1])\n",
    "sol2 = broyden2(F, x0, f_tol=1e-14)\n",
    "print(\"Solution 2:\", sol2)\n"
   ]
  },
  {
   "attachments": {},
   "cell_type": "markdown",
   "metadata": {},
   "source": [
    "Comparing with the results obtained in Question 1, we can see that the solution for the first initial guess is the same, but the solution for the second initial guess is slightly different due to the nature of the Broyden method, which can converge to different roots depending on the initial guess."
   ]
  }
 ],
 "metadata": {
  "kernelspec": {
   "display_name": "cse5023",
   "language": "python",
   "name": "python3"
  },
  "language_info": {
   "codemirror_mode": {
    "name": "ipython",
    "version": 3
   },
   "file_extension": ".py",
   "mimetype": "text/x-python",
   "name": "python",
   "nbconvert_exporter": "python",
   "pygments_lexer": "ipython3",
   "version": "3.7.16"
  },
  "orig_nbformat": 4,
  "vscode": {
   "interpreter": {
    "hash": "1d3989df4af4aadb1c2672df8ac0a9fa8d093dc01861181999661c35a3a96066"
   }
  }
 },
 "nbformat": 4,
 "nbformat_minor": 2
}
