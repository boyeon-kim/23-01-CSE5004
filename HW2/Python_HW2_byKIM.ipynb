{
 "cells": [
  {
   "cell_type": "code",
   "execution_count": 1,
   "metadata": {},
   "outputs": [],
   "source": [
    "import numpy as np\n",
    "import matplotlib as plt"
   ]
  },
  {
   "cell_type": "markdown",
   "metadata": {},
   "source": [
    "Consider a non-linear equation system, F(x) = b,\n",
    "$$ \n",
    "F(x) =\n",
    "\\begin{bmatrix}\n",
    "x^2 + xyz + y^2z^3 \\\\\n",
    "xy^2 - yz^2 - 2x^2 \\\\\n",
    "x^2y + y^2z + z^4\n",
    "\\end{bmatrix} ,\n",
    "b =\n",
    "\\begin{bmatrix}\n",
    "3 \\\\\n",
    "0 \\\\\n",
    "4\n",
    "\\end{bmatrix}\n",
    "$$"
   ]
  },
  {
   "cell_type": "markdown",
   "metadata": {},
   "source": [
    "#### 1. Using Newton’s method, find a root of the system $F(x) = b$ when an initial guess is $(x0,y0,z0) = (1, 2, 3)$ or $(−1, 1, 1)$ (with line-by-line code and using the NumPy library).\n",
    "\n",
    "Let $f(x) : F(x) - b = 0$\n",
    "$$ \n",
    "f(x) =\n",
    "\\begin{bmatrix}\n",
    "x^2 + xyz + y^2z^3 - 3 \\\\\n",
    "xy^2 - yz^2 - 2x^2 \\\\\n",
    "x^2y + y^2z + z^4 - 4\n",
    "\\end{bmatrix}\n",
    "= \n",
    "\\begin{bmatrix}\n",
    "0 \\\\\n",
    "0 \\\\\n",
    "0\n",
    "\\end{bmatrix}\n",
    "$$"
   ]
  },
  {
   "cell_type": "code",
   "execution_count": 2,
   "metadata": {},
   "outputs": [],
   "source": [
    "def f(X):\n",
    "    x = X[0]\n",
    "    y = X[1]\n",
    "    z = X[2]\n",
    "    F1 = (x**2)+ x*y*z + (y**2)*(z**3) -3\n",
    "    F2 = x*(y**2) - y*(z**2) - 2*(x**2)\n",
    "    F3 = (x**2)*y + (y**2)*z + z**4 - 4\n",
    "    return np.array([F1, F2, F3])"
   ]
  },
  {
   "cell_type": "markdown",
   "metadata": {},
   "source": [
    "Let $X = [x, y, z],  J : \\frac{\\partial{F}}{\\partial{X}}$\n",
    "$$ \n",
    "J(X) =\n",
    "\\begin{bmatrix}\n",
    "2x + yz & xz+2yz^3 & xy+3y^2z^2 \\\\\n",
    "y^2 - 4x & 2xy - z^2 & -2yz \\\\\n",
    "2xy & x^2 + 2yz & y^2 + 4z^3\n",
    "\\end{bmatrix}\n",
    "$$"
   ]
  },
  {
   "cell_type": "code",
   "execution_count": 3,
   "metadata": {},
   "outputs": [],
   "source": [
    "def Jf(X):\n",
    "    x = X[0]\n",
    "    y = X[1]\n",
    "    z = X[2]\n",
    "    J11 = 2*x + y*z\n",
    "    J12 = x*z + 2*y*(z**3)\n",
    "    J13 = x*y + 3*(y**2)*(z**2)\n",
    "    J21 = (y**2) - 4*x\n",
    "    J22 = 2*x*y - (z**2)\n",
    "    J23 = -2*y*z\n",
    "    J31 = 2*x*y\n",
    "    J32 = (x**2) + 2*y*z \n",
    "    J33 = (y**2) + 4*(z**3)\n",
    "    return np.array([[J11, J12, J13],[J21, J22, J23],[J31, J32, J33]])"
   ]
  },
  {
   "cell_type": "code",
   "execution_count": 4,
   "metadata": {},
   "outputs": [],
   "source": [
    "def newton(f, Jf, init, tol):\n",
    "    \"\"\" Newton method for sysytems\n",
    "        f : fucntion\n",
    "        Jf : Jacobian of F\n",
    "        init : initial\n",
    "        tol : stop criterion \"\"\"\n",
    "    Xold = init \n",
    "    # for printing\n",
    "    err = np.NaN\n",
    "    for iter in range (0,100):\n",
    "        print('iter = %02d  X = (%0.6f, %0.6f, %0.6f) error = %0.6f ' %(iter, Xold[0], Xold[1], Xold[2], err))\n",
    "        J = Jf(Xold)\n",
    "        F = f(Xold)\n",
    "        \n",
    "        H = np.dot(np.linalg.inv(J),F)\n",
    "\n",
    "        Xnew = Xold - H\n",
    "        # error : Xnew - Xold = -H\n",
    "        err = np.linalg.norm(- H)\n",
    "\n",
    "        if err < tol:\n",
    "            break\n",
    "        \n",
    "        if f'{Xnew[0]}' == f'{np.NaN}':\n",
    "            print('=======================================')\n",
    "            print('This initial can not find the solution')\n",
    "            break\n",
    "        Xold = Xnew\n",
    "    print('The solution is X = (%0.6f, %0.6f, %0.6f)' %(Xold[0], Xold[1], Xold[2]))\n",
    "    return Xold"
   ]
  },
  {
   "cell_type": "code",
   "execution_count": 5,
   "metadata": {},
   "outputs": [],
   "source": [
    "# Set the parameters\n",
    "X1 = [1, 2, 3]\n",
    "X2 = [-1, 1, 1]\n",
    "tol = 1e-6\n"
   ]
  },
  {
   "cell_type": "code",
   "execution_count": 16,
   "metadata": {},
   "outputs": [
    {
     "name": "stdout",
     "output_type": "stream",
     "text": [
      "\n",
      " Case1) initial = (1, 2, 3)\n",
      "iter = 00  X = (1.000000, 2.000000, 3.000000) error = nan \n",
      "iter = 01  X = (10.374528, 1.381132, 1.924528) error = 9.456290 \n",
      "iter = 02  X = (5.475135, 1.444590, 0.977572) error = 4.990472 \n",
      "iter = 03  X = (3.002071, 1.424665, 0.551072) error = 2.509650 \n",
      "iter = 04  X = (1.815242, 1.464958, 0.430732) error = 1.193595 \n",
      "iter = 05  X = (1.339556, 1.587389, 0.506166) error = 0.496948 \n",
      "iter = 06  X = (1.196295, 1.662526, 0.560200) error = 0.170555 \n",
      "iter = 07  X = (1.175165, 1.674642, 0.565389) error = 0.024904 \n",
      "iter = 08  X = (1.174659, 1.674928, 0.565552) error = 0.000604 \n",
      "The solution is X = (1.174659, 1.674928, 0.565552)\n",
      "\n",
      " Case2) initial = (-1, 1, 1)\n",
      "iter = 00  X = (-1.000000, 1.000000, 1.000000) error = nan \n",
      "iter = 01  X = (-2.666667, -5.333333, 4.333333) error = 7.348469 \n",
      "iter = 02  X = (-1.474977, -5.034424, 3.044520) error = 1.780593 \n",
      "iter = 03  X = (0.030803, -6.225164, 1.565757) error = 2.423216 \n",
      "iter = 04  X = (-0.171280, -2.890846, 1.607110) error = 3.340692 \n",
      "iter = 05  X = (-1.454389, 3.099239, 3.239177) error = 6.339647 \n",
      "iter = 06  X = (0.281805, 2.717992, 2.417169) error = 1.958421 \n",
      "iter = 07  X = (0.861428, 2.573774, 1.678405) error = 0.950018 \n",
      "iter = 08  X = (-0.139344, 2.985221, 1.036732) error = 1.258005 \n",
      "iter = 09  X = (0.121502, 2.089010, 0.986590) error = 0.934745 \n",
      "iter = 10  X = (0.369438, 2.004077, 0.857619) error = 0.292094 \n",
      "iter = 11  X = (0.427181, 1.979512, 0.818367) error = 0.074017 \n",
      "iter = 12  X = (0.430244, 1.978996, 0.815108) error = 0.004502 \n",
      "iter = 13  X = (0.430244, 1.979000, 0.815094) error = 0.000014 \n",
      "The solution is X = (0.430244, 1.979000, 0.815094)\n"
     ]
    },
    {
     "data": {
      "text/plain": [
       "array([ 3.82245350e-07, -9.98817395e-07,  3.42014152e-07])"
      ]
     },
     "execution_count": 16,
     "metadata": {},
     "output_type": "execute_result"
    }
   ],
   "source": [
    "print('\\n Case1) initial = (1, 2, 3)')\n",
    "sol1_new = newton(f, Jf, X1, tol)\n",
    "\n",
    "print('\\n Case2) initial = (-1, 1, 1)')\n",
    "sol2_new = newton(f, Jf, X2, tol)"
   ]
  },
  {
   "cell_type": "markdown",
   "metadata": {},
   "source": [
    "#### 2. Explain the behavior of Newton’s method when an initial guess is $(x0, y0, z0) = (0, 0, 1)$."
   ]
  },
  {
   "cell_type": "code",
   "execution_count": 7,
   "metadata": {},
   "outputs": [
    {
     "name": "stdout",
     "output_type": "stream",
     "text": [
      "\n",
      " initial = (0, 0, 1)\n",
      "iter = 00  X = (0.000000, 0.000000, 1.000000) error = nan \n"
     ]
    },
    {
     "ename": "LinAlgError",
     "evalue": "Singular matrix",
     "output_type": "error",
     "traceback": [
      "\u001b[0;31m---------------------------------------------------------------------------\u001b[0m",
      "\u001b[0;31mLinAlgError\u001b[0m                               Traceback (most recent call last)",
      "Cell \u001b[0;32mIn [7], line 4\u001b[0m\n\u001b[1;32m      1\u001b[0m X3 \u001b[38;5;241m=\u001b[39m [\u001b[38;5;241m0\u001b[39m, \u001b[38;5;241m0\u001b[39m, \u001b[38;5;241m1\u001b[39m]\n\u001b[1;32m      3\u001b[0m \u001b[38;5;28mprint\u001b[39m(\u001b[38;5;124m'\u001b[39m\u001b[38;5;130;01m\\n\u001b[39;00m\u001b[38;5;124m initial = (0, 0, 1)\u001b[39m\u001b[38;5;124m'\u001b[39m)\n\u001b[0;32m----> 4\u001b[0m \u001b[43mnewton\u001b[49m\u001b[43m(\u001b[49m\u001b[43mf\u001b[49m\u001b[43m,\u001b[49m\u001b[43m \u001b[49m\u001b[43mJf\u001b[49m\u001b[43m,\u001b[49m\u001b[43m \u001b[49m\u001b[43mX3\u001b[49m\u001b[43m,\u001b[49m\u001b[43m \u001b[49m\u001b[43mtol\u001b[49m\u001b[43m)\u001b[49m\n",
      "Cell \u001b[0;32mIn [4], line 15\u001b[0m, in \u001b[0;36mnewton\u001b[0;34m(f, Jf, init, tol)\u001b[0m\n\u001b[1;32m     12\u001b[0m J \u001b[38;5;241m=\u001b[39m Jf(Xold)\n\u001b[1;32m     13\u001b[0m F \u001b[38;5;241m=\u001b[39m f(Xold)\n\u001b[0;32m---> 15\u001b[0m H \u001b[38;5;241m=\u001b[39m np\u001b[38;5;241m.\u001b[39mdot(\u001b[43mnp\u001b[49m\u001b[38;5;241;43m.\u001b[39;49m\u001b[43mlinalg\u001b[49m\u001b[38;5;241;43m.\u001b[39;49m\u001b[43minv\u001b[49m\u001b[43m(\u001b[49m\u001b[43mJ\u001b[49m\u001b[43m)\u001b[49m,F)\n\u001b[1;32m     17\u001b[0m Xnew \u001b[38;5;241m=\u001b[39m Xold \u001b[38;5;241m-\u001b[39m H\n\u001b[1;32m     18\u001b[0m \u001b[38;5;66;03m# error : Xnew - Xold = -H\u001b[39;00m\n",
      "File \u001b[0;32m<__array_function__ internals>:180\u001b[0m, in \u001b[0;36minv\u001b[0;34m(*args, **kwargs)\u001b[0m\n",
      "File \u001b[0;32m/opt/anaconda3/envs/epi/lib/python3.10/site-packages/numpy/linalg/linalg.py:552\u001b[0m, in \u001b[0;36minv\u001b[0;34m(a)\u001b[0m\n\u001b[1;32m    550\u001b[0m signature \u001b[39m=\u001b[39m \u001b[39m'\u001b[39m\u001b[39mD->D\u001b[39m\u001b[39m'\u001b[39m \u001b[39mif\u001b[39;00m isComplexType(t) \u001b[39melse\u001b[39;00m \u001b[39m'\u001b[39m\u001b[39md->d\u001b[39m\u001b[39m'\u001b[39m\n\u001b[1;32m    551\u001b[0m extobj \u001b[39m=\u001b[39m get_linalg_error_extobj(_raise_linalgerror_singular)\n\u001b[0;32m--> 552\u001b[0m ainv \u001b[39m=\u001b[39m _umath_linalg\u001b[39m.\u001b[39;49minv(a, signature\u001b[39m=\u001b[39;49msignature, extobj\u001b[39m=\u001b[39;49mextobj)\n\u001b[1;32m    553\u001b[0m \u001b[39mreturn\u001b[39;00m wrap(ainv\u001b[39m.\u001b[39mastype(result_t, copy\u001b[39m=\u001b[39m\u001b[39mFalse\u001b[39;00m))\n",
      "File \u001b[0;32m/opt/anaconda3/envs/epi/lib/python3.10/site-packages/numpy/linalg/linalg.py:89\u001b[0m, in \u001b[0;36m_raise_linalgerror_singular\u001b[0;34m(err, flag)\u001b[0m\n\u001b[1;32m     88\u001b[0m \u001b[39mdef\u001b[39;00m \u001b[39m_raise_linalgerror_singular\u001b[39m(err, flag):\n\u001b[0;32m---> 89\u001b[0m     \u001b[39mraise\u001b[39;00m LinAlgError(\u001b[39m\"\u001b[39m\u001b[39mSingular matrix\u001b[39m\u001b[39m\"\u001b[39m)\n",
      "\u001b[0;31mLinAlgError\u001b[0m: Singular matrix"
     ]
    }
   ],
   "source": [
    "X3 = [0, 0, 1]\n",
    "\n",
    "print('\\n initial = (0, 0, 1)')\n",
    "newton(f, Jf, X3, tol)"
   ]
  },
  {
   "cell_type": "markdown",
   "metadata": {},
   "source": [
    "#### Discussion\n",
    "When the initial guess is (0, 0, 1), the Jacobian matrix of f is singulr.  \n",
    "Hence we don't have inverse matrix, so that we don't have solution by using Newton's method.\n"
   ]
  },
  {
   "cell_type": "markdown",
   "metadata": {},
   "source": [
    "#### 3. Using broyden2 in the SciPy library, find a root of the system $F(x) = b$ when an initial guess is $(x0 , y0 , z0 ) = (1, 2, 3)$ or $(−1, 1, 1)$, and compare the result obtained in Question 1."
   ]
  },
  {
   "cell_type": "code",
   "execution_count": 8,
   "metadata": {},
   "outputs": [],
   "source": [
    "import scipy as sp"
   ]
  },
  {
   "cell_type": "code",
   "execution_count": 25,
   "metadata": {},
   "outputs": [
    {
     "name": "stdout",
     "output_type": "stream",
     "text": [
      "\n",
      " Case1) initial = (1, 2, 3)\n",
      " The solution of X:\n",
      "Newton : X = (1.174659, 1.674928, 0.565552)\n",
      "Broyden : X = (1.174658, 1.674929, 0.565552)\n",
      "\n",
      " Case2) initial = (-1, 1, 1)\n",
      " The solution of X:\n",
      "Newton : X = (0.430244, 1.979000, 0.815094)\n",
      "Broyden : X = (-0.722942, -0.807187, 1.370593)\n"
     ]
    },
    {
     "data": {
      "text/plain": [
       "array([ 1.13666272e-07, -9.57823900e-08,  3.78751221e-07])"
      ]
     },
     "execution_count": 25,
     "metadata": {},
     "output_type": "execute_result"
    }
   ],
   "source": [
    "sol1_brd = sp.optimize.broyden2(f,[1, 2, 3])\n",
    "sol2_brd = sp.optimize.broyden2(f,[-1, 1, 1], f_tol=1e-6, x_tol=1e-6)\n",
    "\n",
    "print('\\n Case1) initial = (1, 2, 3)')\n",
    "print(' The solution of X:')\n",
    "print('Newton : X = (%0.6f, %0.6f, %0.6f)' %(sol1_new[0], sol1_new[1], sol1_new[2]))\n",
    "print('Broyden : X = (%0.6f, %0.6f, %0.6f)' %(sol1_brd[0], sol1_brd[1], sol1_brd[2]))\n",
    "\n",
    "print('\\n Case2) initial = (-1, 1, 1)')\n",
    "print(' The solution of X:')\n",
    "print('Newton : X = (%0.6f, %0.6f, %0.6f)' %(sol2_new[0], sol2_new[1], sol2_new[2]))\n",
    "print('Broyden : X = (%0.6f, %0.6f, %0.6f)' %(sol2_brd[0], sol2_brd[1], sol2_brd[2]))\n"
   ]
  },
  {
   "cell_type": "markdown",
   "metadata": {},
   "source": [
    "#### Discussion\n",
    "\n",
    "When the case 2, It is different between the solution using Newton and using Broyden. Because"
   ]
  }
 ],
 "metadata": {
  "kernelspec": {
   "display_name": "Python 3.10.8 ('epi')",
   "language": "python",
   "name": "python3"
  },
  "language_info": {
   "codemirror_mode": {
    "name": "ipython",
    "version": 3
   },
   "file_extension": ".py",
   "mimetype": "text/x-python",
   "name": "python",
   "nbconvert_exporter": "python",
   "pygments_lexer": "ipython3",
   "version": "3.10.8"
  },
  "orig_nbformat": 4,
  "vscode": {
   "interpreter": {
    "hash": "2c9536bba0972c0ce9f364af87873760aac530bfb0bd7aa5f58a221fe4207ade"
   }
  }
 },
 "nbformat": 4,
 "nbformat_minor": 2
}
