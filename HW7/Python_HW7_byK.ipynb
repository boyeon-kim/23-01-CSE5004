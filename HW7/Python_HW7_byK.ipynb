{
 "cells": [
  {
   "cell_type": "code",
   "execution_count": 1,
   "metadata": {},
   "outputs": [],
   "source": [
    "import numpy as np\n",
    "import matplotlib.pyplot as plt\n",
    "from mpl_toolkits.mplot3d import Axes3D\n",
    "import time"
   ]
  },
  {
   "cell_type": "code",
   "execution_count": 2,
   "metadata": {},
   "outputs": [],
   "source": [
    "# Set plot params\n",
    "plt.rcParams['figure.figsize'] = [5,5]\n",
    "plt.rcParams['font.size'] = 10\n",
    "plt.rcParams['font.family'] = 'Times New Roman'\n",
    "plt.rcParams['axes.linewidth'] = 2\n",
    "plt.rcParams['lines.linewidth'] = 2\n",
    "plt.rcParams['xtick.direction'] = 'out'\n",
    "plt.rcParams['ytick.direction'] = 'out'\n",
    "plt.rcParams['xtick.minor.visible'] = True\n",
    "plt.rcParams['ytick.minor.visible'] = True\n",
    "plt.rcParams['xtick.major.size'] = 7\n",
    "plt.rcParams['ytick.major.size'] = 7\n",
    "plt.rcParams['xtick.minor.size'] = 3.5\n",
    "plt.rcParams['ytick.minor.size'] = 3.5\n",
    "plt.rcParams['xtick.major.width'] = 1.5\n",
    "plt.rcParams['ytick.major.width'] = 1.5\n",
    "plt.rcParams['xtick.minor.width'] = 1.5\n",
    "plt.rcParams['ytick.minor.width'] = 1.5\n",
    "plt.rcParams['xtick.top'] = True\n",
    "plt.rcParams['ytick.right'] = True"
   ]
  },
  {
   "cell_type": "markdown",
   "metadata": {},
   "source": [
    "Consider the $2 \\mathrm{D}$ heat equation with a source term in the domain $-1 \\leq x \\leq 1-1 \\leq y \\leq 1$ :\n",
    "$$\n",
    "\\frac{\\partial \\phi}{\\partial t}=\\alpha\\left(\\frac{\\partial^2 \\phi}{\\partial x^2}+\\frac{\\partial^2 \\phi}{\\partial y^2}\\right)+S(x, y)\n",
    "$$\n",
    "where $\\alpha$ is the thermal conductivity and assumed to be 1. The equation is subject to homogeneous initial and boundary conditions, namely, $\\phi(x, y, 0)=0, \\phi( \\pm 1, y, t)=0$, and $\\phi(x, \\pm 1, t)=0$.\n",
    "Complete the following tasks:"
   ]
  },
  {
   "cell_type": "markdown",
   "metadata": {},
   "source": [
    "#### 1. Determine the exact steady-state solution of $\\phi$ when the source term is given by $S(x, y)=2\\left(2-x^2-y^2\\right)$."
   ]
  },
  {
   "cell_type": "markdown",
   "metadata": {},
   "source": [
    "#### 2. Employ the Crank-Nicolson method for time stepping and a second-order central difference scheme for the spatial derivative to solve the equation up to steady state on a uniform grid. Afterwards, plot both the exact and numerical steady-state solutions, considering parameters like time step $\\Delta t$ and the number of grid points in the $x$ and $y$ directions, $N$ and $M$ respectively."
   ]
  },
  {
   "cell_type": "code",
   "execution_count": 3,
   "metadata": {},
   "outputs": [],
   "source": [
    "def exact_solution(x, y):\n",
    "    return 2 * (2 - x**2 - y**2)"
   ]
  },
  {
   "cell_type": "code",
   "execution_count": 4,
   "metadata": {},
   "outputs": [],
   "source": [
    "def crank_nicolson(N, M, T, alpha):\n",
    "    # Define grid spacing\n",
    "    dx = 2 / (N - 1)\n",
    "    dy = 2 / (M - 1)\n",
    "    dt = dx**2 / (4 * alpha)  # Calculate time step based on stability condition\n",
    "    \n",
    "    # Initialize grid\n",
    "    x = np.linspace(-1, 1, N)\n",
    "    y = np.linspace(-1, 1, M)\n",
    "    X, Y = np.meshgrid(x, y)\n",
    "    phi = np.zeros((M, N))\n",
    "    \n",
    "    # Set initial condition\n",
    "    phi_old = np.zeros((M, N))\n",
    "    \n",
    "    # Perform time stepping\n",
    "    t = 0\n",
    "    while t < T:\n",
    "        # Compute source term\n",
    "        S = 2 * (2 - X**2 - Y**2)\n",
    "        \n",
    "        # Solve the system using the Crank-Nicolson method\n",
    "        phi_new = np.zeros((M, N))\n",
    "        for i in range(1, M-1):\n",
    "            for j in range(1, N-1):\n",
    "                phi_new[i, j] = (phi_old[i, j] + alpha * (dt / dx**2 * (phi_old[i, j-1] - 2 * phi_old[i, j] + phi_old[i, j+1]) +\n",
    "                                                         dt / dy**2 * (phi_old[i-1, j] - 2 * phi_old[i, j] + phi_old[i+1, j]) +\n",
    "                                                         dt * S[i, j])) / (1 + 2 * alpha * dt / dx**2 + 2 * alpha * dt / dy**2)\n",
    "        \n",
    "        # Apply boundary conditions\n",
    "        phi_new[0, :] = 0\n",
    "        phi_new[-1, :] = 0\n",
    "        phi_new[:, 0] = 0\n",
    "        phi_new[:, -1] = 0\n",
    "        \n",
    "        # Update time and solution\n",
    "        t += dt\n",
    "        phi_old = phi_new.copy()\n",
    "    \n",
    "    return phi_new"
   ]
  },
  {
   "cell_type": "code",
   "execution_count": 5,
   "metadata": {},
   "outputs": [],
   "source": [
    "# Parameters\n",
    "N = 51  # Number of grid points in x direction\n",
    "M = 51  # Number of grid points in y direction\n",
    "T = 1.0  # Total time\n",
    "alpha = 1.0  # Thermal conductivity\n",
    "\n",
    "# Compute numerical solution\n",
    "numerical_solution = crank_nicolson(N, M, T, alpha)\n",
    "\n",
    "# Compute exact solution on the same grid\n",
    "x = np.linspace(-1, 1, N)\n",
    "y = np.linspace(-1, 1, M)\n",
    "X, Y = np.meshgrid(x, y)\n",
    "exact_solution_grid = exact_solution(X, Y)\n",
    "\n",
    "# Plotting\n",
    "fig = plt.figure(figsize=(10, 5))\n",
    "ax1 = fig.add_subplot(121, projection='3d')\n",
    "ax1.set_title('Numerical Solution')\n",
    "ax1.plot_surface(X, Y, numerical_solution, cmap='viridis')\n",
    "ax1.set_xlabel('x')\n",
    "ax1.set_ylabel('y')\n",
    "ax1.set_zlabel('phi')\n",
    "\n",
    "ax2 = fig.add_subplot(122, projection='3d')\n",
    "ax2.set_title('Exact Solution')\n",
    "ax2.plot_surface(X, Y, exact_solution_grid, cmap='viridis')\n",
    "ax2.set_xlabel('x')\n",
    "ax2.set_ylabel('y')\n",
    "ax2.set_zlabel('phi')\n",
    "\n",
    "plt.tight_layout()\n",
    "plt.show()\n"
   ]
  },
  {
   "cell_type": "markdown",
   "metadata": {},
   "source": [
    "#### 3. Based on your numerical findings, provide a discussion about the order of accuracy in both time and space."
   ]
  },
  {
   "cell_type": "code",
   "execution_count": null,
   "metadata": {},
   "outputs": [],
   "source": [
    "def calculate_error(numerical_solution, exact_solution):\n",
    "    return np.max(np.abs(numerical_solution - exact_solution))"
   ]
  },
  {
   "cell_type": "code",
   "execution_count": null,
   "metadata": {},
   "outputs": [
    {
     "name": "stdout",
     "output_type": "stream",
     "text": [
      "공간 정확도: -inf\n",
      "시간 정확도: 0.0\n"
     ]
    },
    {
     "name": "stderr",
     "output_type": "stream",
     "text": [
      "/var/folders/d5/9q668tsd4bv5vpp3xf9y2_b40000gn/T/ipykernel_7538/3885878676.py:48: RuntimeWarning: divide by zero encountered in double_scalars\n",
      "  rate = np.log2(error1 / error2) / np.log2(N1 / N2)\n"
     ]
    }
   ],
   "source": [
    "# Grid resolutions\n",
    "N_values = [11, 31, 51]\n",
    "M_values = [11, 31, 51]\n",
    "\n",
    "# Time steps\n",
    "dt_values = [0.01, 0.005, 0.0025]\n",
    "\n",
    "# Initialize lists for errors\n",
    "space_errors = []\n",
    "time_errors = []\n",
    "\n",
    "# Compute errors for different grid resolutions (space)\n",
    "for N in N_values:\n",
    "    for M in M_values:\n",
    "        # Compute numerical solution\n",
    "        numerical_solution = crank_nicolson(N, M, T, alpha)\n",
    "        \n",
    "        # Compute exact solution on the same grid\n",
    "        x = np.linspace(-1, 1, N)\n",
    "        y = np.linspace(-1, 1, M)\n",
    "        X, Y = np.meshgrid(x, y)\n",
    "        exact_solution_grid = exact_solution(X, Y)\n",
    "        \n",
    "        # Calculate error\n",
    "        error = calculate_error(numerical_solution, exact_solution_grid)\n",
    "        space_errors.append((N, M, error))\n",
    "\n",
    "# Compute errors for different time steps (time)\n",
    "for dt in dt_values:\n",
    "    # Compute numerical solution\n",
    "    numerical_solution = crank_nicolson(N, M, T, alpha)\n",
    "    \n",
    "    # Compute exact solution on the same grid\n",
    "    x = np.linspace(-1, 1, N)\n",
    "    y = np.linspace(-1, 1, M)\n",
    "    X, Y = np.meshgrid(x, y)\n",
    "    exact_solution_grid = exact_solution(X, Y)\n",
    "    \n",
    "    # Calculate error\n",
    "    error = calculate_error(numerical_solution, exact_solution_grid)\n",
    "    time_errors.append((dt, error))\n",
    "\n",
    "# Calculate convergence rates (space)\n",
    "space_rates = []\n",
    "for i in range(len(space_errors)-1):\n",
    "    N1, M1, error1 = space_errors[i]\n",
    "    N2, M2, error2 = space_errors[i+1]\n",
    "    rate = np.log2(error1 / error2) / np.log2(N1 / N2)\n",
    "    space_rates.append(rate)\n",
    "\n",
    "# Calculate convergence rates (time)\n",
    "time_rates = []\n",
    "for i in range(len(time_errors)-1):\n",
    "    dt1, error1 = time_errors[i]\n",
    "    dt2, error2 = time_errors[i+1]\n",
    "    rate = np.log2(error1 / error2) / np.log2(dt1 / dt2)\n",
    "    time_rates.append(rate)\n",
    "\n",
    "# Print convergence rates\n",
    "print(\"공간 정확도:\", np.mean(space_rates))\n",
    "print(\"시간 정확도:\", np.mean(time_rates))\n",
    "\n",
    "print(space_rates)"
   ]
  },
  {
   "cell_type": "code",
   "execution_count": null,
   "metadata": {},
   "outputs": [
    {
     "name": "stdout",
     "output_type": "stream",
     "text": [
      "space errors:[(11, 11, 3.960810581097203), (11, 31, 776087956.6100981), (11, 51, 3.419115577347515e+17), (31, 11, 3.9920320015352537), (31, 31, 3.9955654320987937), (31, 51, 3.9976498269896195), (51, 11, 3.99692781065753), (51, 31, 3.9976498269896195), (51, 51, 3.99840128)]\n",
      "space rates:[-inf, -inf, -37.63085777253997, -inf, -inf, -0.0003628215522683306, -inf, -inf]\n"
     ]
    }
   ],
   "source": [
    "print(f'space errors:{space_errors}')\n",
    "print(f'space rates:{space_rates}')"
   ]
  },
  {
   "cell_type": "code",
   "execution_count": null,
   "metadata": {},
   "outputs": [
    {
     "name": "stdout",
     "output_type": "stream",
     "text": [
      "time error : [(0.01, 3.99840128), (0.005, 3.99840128), (0.0025, 3.99840128)]\n",
      "time rates: [0.0, 0.0]\n"
     ]
    }
   ],
   "source": [
    "print(f'time error : {time_errors}')\n",
    "print(f'time rates: {time_rates}')"
   ]
  }
 ],
 "metadata": {
  "kernelspec": {
   "display_name": "ez",
   "language": "python",
   "name": "python3"
  },
  "language_info": {
   "codemirror_mode": {
    "name": "ipython",
    "version": 3
   },
   "file_extension": ".py",
   "mimetype": "text/x-python",
   "name": "python",
   "nbconvert_exporter": "python",
   "pygments_lexer": "ipython3",
   "version": "3.10.10"
  },
  "orig_nbformat": 4,
  "vscode": {
   "interpreter": {
    "hash": "b1cf4597006212038fc08c044932211fb6f5db5ab7bc80d290e33496611e6e03"
   }
  }
 },
 "nbformat": 4,
 "nbformat_minor": 2
}
