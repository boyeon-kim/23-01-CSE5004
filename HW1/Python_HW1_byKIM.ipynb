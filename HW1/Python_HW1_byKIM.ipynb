{
 "cells": [
  {
   "attachments": {},
   "cell_type": "markdown",
   "metadata": {},
   "source": [
    "## HW1. NumPy and Matplotlib\n",
    "### 2022313047 Boyeon,Kim "
   ]
  },
  {
   "cell_type": "code",
   "execution_count": null,
   "metadata": {},
   "outputs": [],
   "source": [
    "# Library\n",
    "import numpy as np\n",
    "import matplotlib.pyplot as plt"
   ]
  },
  {
   "attachments": {},
   "cell_type": "markdown",
   "metadata": {},
   "source": [
    "### 1. (Matrix Arithmetic)\n",
    "\n",
    "Let consider a matrix $A$ and a vector $b$,  \n",
    "$$ \n",
    "A = \n",
    "\\begin{bmatrix}\n",
    "1 & 1 & -2 \\\\\n",
    "3 & 3 & -5 \\\\\n",
    "3 & 2 & -10 \\\\\n",
    "1 & 1 & -7 \\\\\n",
    "-4 & -4 & 11 \n",
    "\\end{bmatrix} ,\n",
    "b =\n",
    "\\begin{bmatrix}\n",
    "2 & 7 & 2 & -3 & -4 \n",
    "\\end{bmatrix}\n",
    "$$"
   ]
  },
  {
   "attachments": {},
   "cell_type": "markdown",
   "metadata": {},
   "source": [
    "#### (1) Generate arrays for A matrix and b vector using NumPy library"
   ]
  },
  {
   "cell_type": "code",
   "execution_count": null,
   "metadata": {},
   "outputs": [],
   "source": [
    "A = np.array([[1, 1, -2],[3, 3, -5],[3, 2, -10], [1,1,-7], [-4,-4,11]])\n",
    "b = np.array([2, 7, 2, -3, -4])\n",
    "\n",
    "print('\\n','1. A is')\n",
    "print(A)\n",
    "\n",
    "print('\\n','2. b is')\n",
    "print(b)\n"
   ]
  },
  {
   "attachments": {},
   "cell_type": "markdown",
   "metadata": {},
   "source": [
    "#### (2) Transpose A and apply matrix multiplication with the original matrix($A^TA$)"
   ]
  },
  {
   "cell_type": "code",
   "execution_count": null,
   "metadata": {},
   "outputs": [],
   "source": [
    "transA = A.T\n",
    "print('\\n','1. Transpose A is')\n",
    "print(transA)\n",
    "\n",
    "ATA = np.dot(transA,A)\n",
    "print('\\n','2. Trans(A) * A is')\n",
    "print(ATA)"
   ]
  },
  {
   "attachments": {},
   "cell_type": "markdown",
   "metadata": {},
   "source": [
    "#### (3) Calculate x as the solution of $A^TAx = A^Tb$\n",
    "\n",
    "$$\n",
    "x = (A^TA)^{-1}A^Tb \n",
    "$$"
   ]
  },
  {
   "cell_type": "code",
   "execution_count": null,
   "metadata": {},
   "outputs": [],
   "source": [
    "ATAinv = np.linalg.inv(ATA)\n",
    "print('\\n','1. inverse(trans(A)*A) is')\n",
    "print(ATAinv)\n",
    "\n",
    "B = np.dot(transA,b)\n",
    "print('\\n','2. trans(A)*b is')\n",
    "print(B)\n",
    "\n",
    "x = np.dot(ATAinv,B)\n",
    "print('\\n','3. the solution x is')\n",
    "print(x)\n"
   ]
  },
  {
   "attachments": {},
   "cell_type": "markdown",
   "metadata": {},
   "source": [
    "#### (4) Calculate the norm of Ax −b with line-by-line coding and using NumPy library.\n",
    "\n",
    "Let $X = Ax - b$,  \n",
    "$$\n",
    "L_p = (\\Sigma_{i}^{n}|X(i)|^{p})^{1/p}\n",
    "$$"
   ]
  },
  {
   "cell_type": "code",
   "execution_count": null,
   "metadata": {},
   "outputs": [],
   "source": [
    "print('\\n 1. Line-by-Line coding')\n",
    "diff_mat = np.dot(A, x) - b\n",
    "print(' (1) Ax - b is')\n",
    "print( diff_mat)\n",
    "\n",
    "# L1 norm\n",
    "norm1 = sum(abs(diff_mat))\n",
    "print('\\n(2)-1. 1-norm :', norm1)\n",
    "\n",
    "# L2 norm\n",
    "normsq = np.dot(diff_mat, diff_mat)\n",
    "print(' (2)-2. (Ax - b)*(Ax - b) = ', normsq)\n",
    "norm2 = np.sqrt(normsq)\n",
    "print('         2-norm :', norm2)\n",
    "\n",
    "# infinity-norm\n",
    "norminf = abs(max(diff_mat))\n",
    "print(' (2)-3. infinity-norm :', norminf)\n",
    "\n",
    "# Using Numpy Library\n",
    "print('\\n 2. Using numpy norm')\n",
    "norm1_ = np.linalg.norm(diff_mat,1)\n",
    "norm2_ = np.linalg.norm(diff_mat,2)\n",
    "norminf_ = np.linalg.norm(diff_mat,np.inf)\n",
    "\n",
    "print(' (1) 1-norm is',norm1_)\n",
    "print(' (2) 2-norm is',norm2_)\n",
    "print(' (3) infinity-norm is',norminf)"
   ]
  },
  {
   "attachments": {},
   "cell_type": "markdown",
   "metadata": {},
   "source": [
    "### 2. (Drawing Graps)\n",
    "\n",
    "A two-dimensional Ackley function, $f(x,y)$, has many local minima and one global minimum\n",
    "in the domain,$(x,y) ∈[−4,4] ×[−4,4]$.  \n",
    "$$\n",
    "f(x,y) = −a \\exp{(−b\\sqrt{0.5(x^2+ y^2)})} −\\exp{(0.5(cos(cx) + cos(cy)))} + a + \\exp(1)\n",
    "$$  \n",
    "where $a = 20, b = 0.2,$ and $c = 2π$."
   ]
  },
  {
   "attachments": {},
   "cell_type": "markdown",
   "metadata": {},
   "source": [
    "#### (1) Plot a 2D contour of the Ackley function on $(x,y) ∈[−4,4] ×[−4,4]$."
   ]
  },
  {
   "cell_type": "code",
   "execution_count": null,
   "metadata": {},
   "outputs": [],
   "source": [
    "# Setting the function\n",
    "def Ackley(x, y):\n",
    "    a = 20\n",
    "    b = 0.2\n",
    "    c = 2*np.pi\n",
    "    f1 = -a * np.exp(-b * np.sqrt(0.5 * (x**2 + y**2)))\n",
    "    f2 = np.exp(0.5 * np.cos(c*x) + np.cos(c*y))\n",
    "    f = f1 - f2 + a + np.exp(1)\n",
    "    return f"
   ]
  },
  {
   "cell_type": "code",
   "execution_count": null,
   "metadata": {},
   "outputs": [],
   "source": [
    "lb = -4\n",
    "ub = 4\n",
    "N  = 100\n",
    "\n",
    "x = np.linspace(lb,ub,N)\n",
    "y = np.linspace(lb,ub,N)\n",
    "X, Y = np.meshgrid(x, y)\n",
    "Z = Ackley(X, Y)"
   ]
  },
  {
   "cell_type": "code",
   "execution_count": null,
   "metadata": {},
   "outputs": [],
   "source": [
    "# Set plot params\n",
    "plt.rcParams['figure.figsize'] = [10,10]\n",
    "plt.rcParams['font.size'] = 15\n",
    "plt.rcParams['font.family'] = 'Times New Roman'\n",
    "plt.rcParams['axes.linewidth'] = 2\n",
    "plt.rcParams['lines.linewidth'] = 2\n",
    "plt.rcParams['xtick.direction'] = 'out'\n",
    "plt.rcParams['ytick.direction'] = 'out'\n",
    "plt.rcParams['xtick.minor.visible'] = True\n",
    "plt.rcParams['ytick.minor.visible'] = True\n",
    "plt.rcParams['xtick.major.size'] = 7\n",
    "plt.rcParams['ytick.major.size'] = 7\n",
    "plt.rcParams['xtick.minor.size'] = 3.5\n",
    "plt.rcParams['ytick.minor.size'] = 3.5\n",
    "plt.rcParams['xtick.major.width'] = 1.5\n",
    "plt.rcParams['ytick.major.width'] = 1.5\n",
    "plt.rcParams['xtick.minor.width'] = 1.5\n",
    "plt.rcParams['ytick.minor.width'] = 1.5\n",
    "plt.rcParams['xtick.top'] = True\n",
    "plt.rcParams['ytick.right'] = True"
   ]
  },
  {
   "cell_type": "code",
   "execution_count": null,
   "metadata": {},
   "outputs": [],
   "source": [
    "from mpl_toolkits.axes_grid1 import make_axes_locatable\n",
    "\n",
    "fig = plt.figure()\n",
    "cont = plt.contourf(X,Y,Z, cmap='magma')\n",
    "plt.xlabel('X')\n",
    "plt.ylabel('Y')\n",
    "cs=plt.contour(X,Y,Z,colors='k')\n",
    "# 등고선 표현\n",
    "plt.clabel(cs)\n",
    "plt.title('2D contour of the Ackley function')\n",
    "fig.colorbar(cont, shrink=1, aspect=15)"
   ]
  },
  {
   "attachments": {},
   "cell_type": "markdown",
   "metadata": {},
   "source": [
    "#### (2) Plot a 3D graph of the Ackley function on $(x,y) ∈[−4,4] ×[−4,4]$."
   ]
  },
  {
   "cell_type": "code",
   "execution_count": null,
   "metadata": {},
   "outputs": [],
   "source": [
    "from mpl_toolkits.mplot3d import Axes3D\n",
    "\n",
    "fig= plt.figure()\n",
    "ax=fig.add_subplot(111, projection='3d')\n",
    "surf=ax.plot_surface(X,Y,Z, cmap='magma')\n",
    "plt.xlabel('X')\n",
    "plt.ylabel('Y')\n",
    "plt.title('3D graph of the Ackley function')\n",
    "fig.colorbar(surf, shrink=0.5, aspect=10)"
   ]
  },
  {
   "attachments": {},
   "cell_type": "markdown",
   "metadata": {},
   "source": [
    "#### (3) Find the global minimum and its position."
   ]
  },
  {
   "cell_type": "code",
   "execution_count": null,
   "metadata": {},
   "outputs": [],
   "source": [
    "global_min = np.min(Z)\n",
    "# numpy.unravel_index(indices[], shape()) : indices를 shape에 매핑시킨 index 반환\n",
    "min_index = np.unravel_index(np.argmin(Z), Z.shape)\n",
    "\n",
    "print(' 1. Global minimum = ', global_min)\n",
    "# Cartesian 과 Matrix는 반대로 indexing 됨\n",
    "# 따라서, x와 y의 indexing 반대임\n",
    "print(' 2. The position (x,y) =', (x[min_index[1]], y[min_index[0]]))"
   ]
  },
  {
   "attachments": {},
   "cell_type": "markdown",
   "metadata": {},
   "source": [
    "#### (4) Plot a graph for $f(y|x = −2), f(y|x = 0)$, and $f(y|x = 2)$ in one plot with legends."
   ]
  },
  {
   "cell_type": "code",
   "execution_count": null,
   "metadata": {},
   "outputs": [],
   "source": [
    "x_values = [-2, 0, 2]\n",
    "colors = ['pink', 'firebrick', 'midnightblue']\n",
    "shapes = ['o-','.-','x:']\n",
    "\n",
    "fig, ax = plt.subplots()\n",
    "for x_value, color, shapes in zip(x_values, colors, shapes):\n",
    "    ax.plot(y, Ackley(x_value, y), shapes, color=color, label=f'f(y|x = {x_value})')\n",
    "\n",
    "plt.xlabel('y')\n",
    "plt.ylabel('Z')\n",
    "ax.legend()\n",
    "plt.grid()   \n",
    "\n"
   ]
  },
  {
   "attachments": {},
   "cell_type": "markdown",
   "metadata": {},
   "source": [
    "#### (5) Plot the x-direction averaged one-dimensional graph and the y-direction averaged one-dimensional graph on the same canvas."
   ]
  },
  {
   "cell_type": "code",
   "execution_count": null,
   "metadata": {},
   "outputs": [],
   "source": [
    "# numpy.mean(a, axis)\n",
    "# axis = 0 --> x축, axis = 1 --> y축\n",
    "x_average = np.mean(Z, axis=0)\n",
    "y_average = np.mean(Z, axis=1)\n",
    "\n",
    "fig, ax = plt.subplots()\n",
    "ax.plot(x, x_average,'.-', label='x-direction average')\n",
    "ax.plot(y, y_average,'.-', label='y-direction average')\n",
    "plt.grid()\n",
    "plt.xlabel('interval')\n",
    "plt.ylabel('direction average')\n",
    "ax.legend()\n"
   ]
  }
 ],
 "metadata": {
  "kernelspec": {
   "display_name": "cse5023",
   "language": "python",
   "name": "python3"
  },
  "language_info": {
   "codemirror_mode": {
    "name": "ipython",
    "version": 3
   },
   "file_extension": ".py",
   "mimetype": "text/x-python",
   "name": "python",
   "nbconvert_exporter": "python",
   "pygments_lexer": "ipython3",
   "version": "3.7.16"
  },
  "orig_nbformat": 4,
  "vscode": {
   "interpreter": {
    "hash": "1d3989df4af4aadb1c2672df8ac0a9fa8d093dc01861181999661c35a3a96066"
   }
  }
 },
 "nbformat": 4,
 "nbformat_minor": 2
}
