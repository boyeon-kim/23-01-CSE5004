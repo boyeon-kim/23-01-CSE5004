{
 "cells": [
  {
   "cell_type": "markdown",
   "metadata": {},
   "source": [
    "### Goal\n",
    "\n",
    "1. 고급 라이브러리 사용이 목적\n",
    "2. visualization : matplotlib\n",
    "3. Extra : data(Pandas 응용), optimization\n",
    "4. Proof NO! : 받아들이세여\n",
    "5. 어떻게든 과제를 해서 내기만 하면 됨\n",
    "6. Final project : my field에서 적용하도록! (내가 뭟 하는 사람인지 보여주세요)"
   ]
  },
  {
   "cell_type": "markdown",
   "metadata": {},
   "source": [
    "### Book\n",
    "1. Q. Kong, T. Siauw, and A.M. Bayen, Python Programming and Numerical Meth- ods, Academic Press, 2021\n",
    "https://pythonnumericalmethods.berkeley.edu/notebooks/Index.html\n",
    "\n",
    "2. P. Moin, Fundamentals of Engineering Numerical Analysis, 2nd edition, Cambridge University Press, 2010\n",
    "\n"
   ]
  }
 ],
 "metadata": {
  "kernelspec": {
   "display_name": "Python 3.10.8 ('epi')",
   "language": "python",
   "name": "python3"
  },
  "language_info": {
   "name": "python",
   "version": "3.10.8"
  },
  "orig_nbformat": 4,
  "vscode": {
   "interpreter": {
    "hash": "2c9536bba0972c0ce9f364af87873760aac530bfb0bd7aa5f58a221fe4207ade"
   }
  }
 },
 "nbformat": 4,
 "nbformat_minor": 2
}
